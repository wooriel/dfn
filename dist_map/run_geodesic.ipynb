{
 "cells": [
  {
   "cell_type": "code",
   "execution_count": 13,
   "id": "interracial-watch",
   "metadata": {},
   "outputs": [],
   "source": [
    "import gdist\n",
    "import numpy as np\n",
    "import torch\n",
    "from plyfile import PlyData, PlyElement\n",
    "import matplotlib.pyplot as plt\n",
    "import h5py"
   ]
  },
  {
   "cell_type": "code",
   "execution_count": 14,
   "id": "medium-appraisal",
   "metadata": {},
   "outputs": [],
   "source": [
    "data_dir = '../data/'\n",
    "training_reg = 'training/reg_100/'\n",
    "training_scan = 'training/scan_d/'\n",
    "test_scan = 'test/scan_d/'\n",
    "dist_dir = 'training/dist_map/'"
   ]
  },
  {
   "cell_type": "code",
   "execution_count": 15,
   "id": "exact-argument",
   "metadata": {},
   "outputs": [],
   "source": [
    "def train_dist():\n",
    "    for i in range(100):\n",
    "        strnum = \"%03d\" % (i)\n",
    "        fn = ''.join([data_dir, training_reg, 'tr_reg_', strnum, '.ply'])\n",
    "        pd = PlyData.read(fn)\n",
    "        x_coord = pd['vertex'].data['x']\n",
    "        y_coord = pd['vertex'].data['y']\n",
    "        z_coord = pd['vertex'].data['z']\n",
    "    \n",
    "        vert = []\n",
    "        vert.append(x_coord)\n",
    "        vert.append(y_coord)\n",
    "        vert.append(z_coord)\n",
    "        nvert = np.array(vert)\n",
    "        nvert = nvert.transpose(1, 0)\n",
    "        \n",
    "        face = pd['face'].data['vertex_indices']\n",
    "        \n",
    "        lface = []\n",
    "        # array format does not match - moved to list and reconverted to ndarray\n",
    "        for i in range(len(face)):\n",
    "            temp = []\n",
    "            temp.append(int(face[i][0]))\n",
    "            temp.append(int(face[i][1]))\n",
    "            temp.append(int(face[i][2]))\n",
    "            lface.append(temp)\n",
    "        nface = np.array(lface) \n",
    "        nface = nface.astype(dtype=np.int32)\n",
    "        \n",
    "        dist_map = gdist.local_gdist_matrix(nvert, nface).toarray()\n",
    "    \n",
    "        save_fn = ''.join([data_dir, dist_dir, 'tr_reg_dist_', strnum, '.h5'])\n",
    "        h5file = h5py.File(save_fn, 'w')\n",
    "        h5file.create_dataset(\"dist_map\", data=dist_map)\n",
    "        h5file.close()"
   ]
  },
  {
   "cell_type": "code",
   "execution_count": 9,
   "id": "relative-reduction",
   "metadata": {},
   "outputs": [],
   "source": [
    "def vis_func_map(matrix):\n",
    "#     pmatrix = matrix[0:100]\n",
    "#     pmatrix = pmatrix[:, 0:100]\n",
    "#     print(pmatrix)\n",
    "    plt.pcolor(matrix, cmap='RdBu')\n",
    "    plt.axis([0, matrix.shape[0]-1, 0, matrix.shape[1]-1])\n",
    "#     norm = ply.colors.Normalize(vmin=-1, vmax=1)\n",
    "    plt.colorbar()\n",
    "    plt.gca().invert_yaxis()\n",
    "    plt.show()\n",
    "    plt.close('all')"
   ]
  },
  {
   "cell_type": "code",
   "execution_count": 16,
   "id": "superior-disco",
   "metadata": {},
   "outputs": [
    {
     "ename": "OSError",
     "evalue": "Can't write data (file write failed: time = Sun Jun  6 03:03:15 2021\n, filename = '../data/training/dist_map/tr_reg_dist_004.h5', file descriptor = 44, errno = 28, error message = 'No space left on device', buf = 0x7fa729ee5810, total write size = 353531680, bytes this sub-write = 353531680, bytes actually written = 18446744073709551615, offset = 26247168)",
     "output_type": "error",
     "traceback": [
      "\u001b[0;31m---------------------------------------------------------------------------\u001b[0m",
      "\u001b[0;31mOSError\u001b[0m                                   Traceback (most recent call last)",
      "\u001b[0;32m<ipython-input-16-87f1b3ca4410>\u001b[0m in \u001b[0;36m<module>\u001b[0;34m\u001b[0m\n\u001b[0;32m----> 1\u001b[0;31m \u001b[0mtrain_dist\u001b[0m\u001b[0;34m(\u001b[0m\u001b[0;34m)\u001b[0m\u001b[0;34m\u001b[0m\u001b[0;34m\u001b[0m\u001b[0m\n\u001b[0m\u001b[1;32m      2\u001b[0m \u001b[0;31m# fn = ''.join([data_dir, training_reg, 'tr_reg_', '000', '.ply'])\u001b[0m\u001b[0;34m\u001b[0m\u001b[0;34m\u001b[0m\u001b[0;34m\u001b[0m\u001b[0m\n\u001b[1;32m      3\u001b[0m \u001b[0;31m# pd = PlyData.read(fn)\u001b[0m\u001b[0;34m\u001b[0m\u001b[0;34m\u001b[0m\u001b[0;34m\u001b[0m\u001b[0m\n\u001b[1;32m      4\u001b[0m \u001b[0;31m# # print(pd)\u001b[0m\u001b[0;34m\u001b[0m\u001b[0;34m\u001b[0m\u001b[0;34m\u001b[0m\u001b[0m\n\u001b[1;32m      5\u001b[0m \u001b[0;31m# x_coord = pd['vertex'].data['x']\u001b[0m\u001b[0;34m\u001b[0m\u001b[0;34m\u001b[0m\u001b[0;34m\u001b[0m\u001b[0m\n",
      "\u001b[0;32m<ipython-input-15-f174901efe13>\u001b[0m in \u001b[0;36mtrain_dist\u001b[0;34m()\u001b[0m\n\u001b[1;32m     32\u001b[0m         \u001b[0msave_fn\u001b[0m \u001b[0;34m=\u001b[0m \u001b[0;34m''\u001b[0m\u001b[0;34m.\u001b[0m\u001b[0mjoin\u001b[0m\u001b[0;34m(\u001b[0m\u001b[0;34m[\u001b[0m\u001b[0mdata_dir\u001b[0m\u001b[0;34m,\u001b[0m \u001b[0mdist_dir\u001b[0m\u001b[0;34m,\u001b[0m \u001b[0;34m'tr_reg_dist_'\u001b[0m\u001b[0;34m,\u001b[0m \u001b[0mstrnum\u001b[0m\u001b[0;34m,\u001b[0m \u001b[0;34m'.h5'\u001b[0m\u001b[0;34m]\u001b[0m\u001b[0;34m)\u001b[0m\u001b[0;34m\u001b[0m\u001b[0;34m\u001b[0m\u001b[0m\n\u001b[1;32m     33\u001b[0m         \u001b[0mh5file\u001b[0m \u001b[0;34m=\u001b[0m \u001b[0mh5py\u001b[0m\u001b[0;34m.\u001b[0m\u001b[0mFile\u001b[0m\u001b[0;34m(\u001b[0m\u001b[0msave_fn\u001b[0m\u001b[0;34m,\u001b[0m \u001b[0;34m'w'\u001b[0m\u001b[0;34m)\u001b[0m\u001b[0;34m\u001b[0m\u001b[0;34m\u001b[0m\u001b[0m\n\u001b[0;32m---> 34\u001b[0;31m         \u001b[0mh5file\u001b[0m\u001b[0;34m.\u001b[0m\u001b[0mcreate_dataset\u001b[0m\u001b[0;34m(\u001b[0m\u001b[0;34m\"dist_map\"\u001b[0m\u001b[0;34m,\u001b[0m \u001b[0mdata\u001b[0m\u001b[0;34m=\u001b[0m\u001b[0mdist_map\u001b[0m\u001b[0;34m)\u001b[0m\u001b[0;34m\u001b[0m\u001b[0;34m\u001b[0m\u001b[0m\n\u001b[0m\u001b[1;32m     35\u001b[0m         \u001b[0mh5file\u001b[0m\u001b[0;34m.\u001b[0m\u001b[0mclose\u001b[0m\u001b[0;34m(\u001b[0m\u001b[0;34m)\u001b[0m\u001b[0;34m\u001b[0m\u001b[0;34m\u001b[0m\u001b[0m\n",
      "\u001b[0;32m~/venv/lib/python3.8/site-packages/h5py/_hl/group.py\u001b[0m in \u001b[0;36mcreate_dataset\u001b[0;34m(self, name, shape, dtype, data, **kwds)\u001b[0m\n\u001b[1;32m    134\u001b[0m \u001b[0;34m\u001b[0m\u001b[0m\n\u001b[1;32m    135\u001b[0m         \u001b[0;32mwith\u001b[0m \u001b[0mphil\u001b[0m\u001b[0;34m:\u001b[0m\u001b[0;34m\u001b[0m\u001b[0;34m\u001b[0m\u001b[0m\n\u001b[0;32m--> 136\u001b[0;31m             \u001b[0mdsid\u001b[0m \u001b[0;34m=\u001b[0m \u001b[0mdataset\u001b[0m\u001b[0;34m.\u001b[0m\u001b[0mmake_new_dset\u001b[0m\u001b[0;34m(\u001b[0m\u001b[0mself\u001b[0m\u001b[0;34m,\u001b[0m \u001b[0mshape\u001b[0m\u001b[0;34m,\u001b[0m \u001b[0mdtype\u001b[0m\u001b[0;34m,\u001b[0m \u001b[0mdata\u001b[0m\u001b[0;34m,\u001b[0m \u001b[0;34m**\u001b[0m\u001b[0mkwds\u001b[0m\u001b[0;34m)\u001b[0m\u001b[0;34m\u001b[0m\u001b[0;34m\u001b[0m\u001b[0m\n\u001b[0m\u001b[1;32m    137\u001b[0m             \u001b[0mdset\u001b[0m \u001b[0;34m=\u001b[0m \u001b[0mdataset\u001b[0m\u001b[0;34m.\u001b[0m\u001b[0mDataset\u001b[0m\u001b[0;34m(\u001b[0m\u001b[0mdsid\u001b[0m\u001b[0;34m)\u001b[0m\u001b[0;34m\u001b[0m\u001b[0;34m\u001b[0m\u001b[0m\n\u001b[1;32m    138\u001b[0m             \u001b[0;32mif\u001b[0m \u001b[0mname\u001b[0m \u001b[0;32mis\u001b[0m \u001b[0;32mnot\u001b[0m \u001b[0;32mNone\u001b[0m\u001b[0;34m:\u001b[0m\u001b[0;34m\u001b[0m\u001b[0;34m\u001b[0m\u001b[0m\n",
      "\u001b[0;32m~/venv/lib/python3.8/site-packages/h5py/_hl/dataset.py\u001b[0m in \u001b[0;36mmake_new_dset\u001b[0;34m(parent, shape, dtype, data, chunks, compression, shuffle, fletcher32, maxshape, compression_opts, fillvalue, scaleoffset, track_times, external, track_order, dcpl)\u001b[0m\n\u001b[1;32m    168\u001b[0m \u001b[0;34m\u001b[0m\u001b[0m\n\u001b[1;32m    169\u001b[0m     \u001b[0;32mif\u001b[0m \u001b[0;34m(\u001b[0m\u001b[0mdata\u001b[0m \u001b[0;32mis\u001b[0m \u001b[0;32mnot\u001b[0m \u001b[0;32mNone\u001b[0m\u001b[0;34m)\u001b[0m \u001b[0;32mand\u001b[0m \u001b[0;34m(\u001b[0m\u001b[0;32mnot\u001b[0m \u001b[0misinstance\u001b[0m\u001b[0;34m(\u001b[0m\u001b[0mdata\u001b[0m\u001b[0;34m,\u001b[0m \u001b[0mEmpty\u001b[0m\u001b[0;34m)\u001b[0m\u001b[0;34m)\u001b[0m\u001b[0;34m:\u001b[0m\u001b[0;34m\u001b[0m\u001b[0;34m\u001b[0m\u001b[0m\n\u001b[0;32m--> 170\u001b[0;31m         \u001b[0mdset_id\u001b[0m\u001b[0;34m.\u001b[0m\u001b[0mwrite\u001b[0m\u001b[0;34m(\u001b[0m\u001b[0mh5s\u001b[0m\u001b[0;34m.\u001b[0m\u001b[0mALL\u001b[0m\u001b[0;34m,\u001b[0m \u001b[0mh5s\u001b[0m\u001b[0;34m.\u001b[0m\u001b[0mALL\u001b[0m\u001b[0;34m,\u001b[0m \u001b[0mdata\u001b[0m\u001b[0;34m)\u001b[0m\u001b[0;34m\u001b[0m\u001b[0;34m\u001b[0m\u001b[0m\n\u001b[0m\u001b[1;32m    171\u001b[0m \u001b[0;34m\u001b[0m\u001b[0m\n\u001b[1;32m    172\u001b[0m     \u001b[0;32mreturn\u001b[0m \u001b[0mdset_id\u001b[0m\u001b[0;34m\u001b[0m\u001b[0;34m\u001b[0m\u001b[0m\n",
      "\u001b[0;32mh5py/_objects.pyx\u001b[0m in \u001b[0;36mh5py._objects.with_phil.wrapper\u001b[0;34m()\u001b[0m\n",
      "\u001b[0;32mh5py/_objects.pyx\u001b[0m in \u001b[0;36mh5py._objects.with_phil.wrapper\u001b[0;34m()\u001b[0m\n",
      "\u001b[0;32mh5py/h5d.pyx\u001b[0m in \u001b[0;36mh5py.h5d.DatasetID.write\u001b[0;34m()\u001b[0m\n",
      "\u001b[0;32mh5py/_proxy.pyx\u001b[0m in \u001b[0;36mh5py._proxy.dset_rw\u001b[0;34m()\u001b[0m\n",
      "\u001b[0;32mh5py/_proxy.pyx\u001b[0m in \u001b[0;36mh5py._proxy.H5PY_H5Dwrite\u001b[0;34m()\u001b[0m\n",
      "\u001b[0;31mOSError\u001b[0m: Can't write data (file write failed: time = Sun Jun  6 03:03:15 2021\n, filename = '../data/training/dist_map/tr_reg_dist_004.h5', file descriptor = 44, errno = 28, error message = 'No space left on device', buf = 0x7fa729ee5810, total write size = 353531680, bytes this sub-write = 353531680, bytes actually written = 18446744073709551615, offset = 26247168)"
     ]
    }
   ],
   "source": [
    "train_dist()\n",
    "# fn = ''.join([data_dir, training_reg, 'tr_reg_', '000', '.ply'])\n",
    "# pd = PlyData.read(fn)\n",
    "# # print(pd)\n",
    "# x_coord = pd['vertex'].data['x']\n",
    "# y_coord = pd['vertex'].data['y']\n",
    "# z_coord = pd['vertex'].data['z']\n",
    "\n",
    "# vert = []\n",
    "# vert.append(x_coord)\n",
    "# vert.append(y_coord)\n",
    "# vert.append(z_coord)\n",
    "# nvert = np.array(vert)\n",
    "# nvert = nvert.transpose(1, 0)\n",
    "# face = pd['face'].data['vertex_indices']\n",
    "\n",
    "# lface = []\n",
    "# # array format does not match - moved to list and reconverted to ndarray\n",
    "# for i in range(len(face)):\n",
    "#     temp = []\n",
    "#     temp.append(int(face[i][0]))\n",
    "#     temp.append(int(face[i][1]))\n",
    "#     temp.append(int(face[i][2]))\n",
    "#     lface.append(temp)\n",
    "# nface = np.array(lface)\n",
    "# # print(nface)\n",
    "\n",
    "# nface = nface.astype(dtype=np.int32)\n",
    "\n",
    "# nsrc = np.arange(0, 6890, dtype=np.int32)\n",
    "\n",
    "# dist_map = gdist.local_gdist_matrix(nvert, nface).toarray()\n",
    "# print(dist_map.shape)\n",
    "# # d = torch.from_numpy(dist_map)\n",
    "# print(d.size())"
   ]
  },
  {
   "cell_type": "code",
   "execution_count": null,
   "id": "imposed-dryer",
   "metadata": {},
   "outputs": [],
   "source": []
  }
 ],
 "metadata": {
  "kernelspec": {
   "display_name": "Python 3",
   "language": "python",
   "name": "python3"
  },
  "language_info": {
   "codemirror_mode": {
    "name": "ipython",
    "version": 3
   },
   "file_extension": ".py",
   "mimetype": "text/x-python",
   "name": "python",
   "nbconvert_exporter": "python",
   "pygments_lexer": "ipython3",
   "version": "3.8.0"
  }
 },
 "nbformat": 4,
 "nbformat_minor": 5
}
