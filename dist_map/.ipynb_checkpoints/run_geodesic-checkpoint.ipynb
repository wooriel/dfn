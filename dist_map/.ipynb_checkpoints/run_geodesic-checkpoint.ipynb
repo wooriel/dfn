{
 "cells": [
  {
   "cell_type": "code",
   "execution_count": 3,
   "id": "saving-lover",
   "metadata": {},
   "outputs": [
    {
     "ename": "ValueError",
     "evalue": "numpy.ndarray size changed, may indicate binary incompatibility. Expected 88 from C header, got 80 from PyObject",
     "output_type": "error",
     "traceback": [
      "\u001b[0;31m---------------------------------------------------------------------------\u001b[0m",
      "\u001b[0;31mValueError\u001b[0m                                Traceback (most recent call last)",
      "\u001b[0;32m<ipython-input-3-1955e66bbe59>\u001b[0m in \u001b[0;36m<module>\u001b[0;34m\u001b[0m\n\u001b[0;32m----> 1\u001b[0;31m \u001b[0;32mimport\u001b[0m \u001b[0mgdist\u001b[0m\u001b[0;34m\u001b[0m\u001b[0;34m\u001b[0m\u001b[0m\n\u001b[0m\u001b[1;32m      2\u001b[0m \u001b[0;32mimport\u001b[0m \u001b[0mnumpy\u001b[0m \u001b[0;32mas\u001b[0m \u001b[0mnp\u001b[0m\u001b[0;34m\u001b[0m\u001b[0;34m\u001b[0m\u001b[0m\n\u001b[1;32m      3\u001b[0m \u001b[0;32mfrom\u001b[0m \u001b[0mplyfile\u001b[0m \u001b[0;32mimport\u001b[0m \u001b[0mPlyData\u001b[0m\u001b[0;34m,\u001b[0m \u001b[0mPlyElement\u001b[0m\u001b[0;34m\u001b[0m\u001b[0;34m\u001b[0m\u001b[0m\n\u001b[1;32m      4\u001b[0m \u001b[0;32mimport\u001b[0m \u001b[0mmatplotlib\u001b[0m\u001b[0;34m.\u001b[0m\u001b[0mpyplot\u001b[0m \u001b[0;32mas\u001b[0m \u001b[0mplt\u001b[0m\u001b[0;34m\u001b[0m\u001b[0;34m\u001b[0m\u001b[0m\n",
      "\u001b[0;32mgdist.pyx\u001b[0m in \u001b[0;36minit gdist\u001b[0;34m()\u001b[0m\n",
      "\u001b[0;31mValueError\u001b[0m: numpy.ndarray size changed, may indicate binary incompatibility. Expected 88 from C header, got 80 from PyObject"
     ]
    }
   ],
   "source": [
    "import gdist\n",
    "import numpy as np\n",
    "from plyfile import PlyData, PlyElement\n",
    "import matplotlib.pyplot as plt"
   ]
  },
  {
   "cell_type": "code",
   "execution_count": 3,
   "id": "detailed-tribe",
   "metadata": {},
   "outputs": [],
   "source": [
    "data_dir = '../data/'\n",
    "training_scan = 'training/scan_d/'\n",
    "test_scan = 'test/scan_d/'"
   ]
  },
  {
   "cell_type": "code",
   "execution_count": 4,
   "id": "northern-morrison",
   "metadata": {},
   "outputs": [],
   "source": [
    "def vis_func_map(matrix):\n",
    "#     pmatrix = matrix[0:100]\n",
    "#     pmatrix = pmatrix[:, 0:100]\n",
    "#     print(pmatrix)\n",
    "    plt.pcolor(matrix, cmap='RdBu')\n",
    "    plt.axis([0, matrix.shape[0]-1, 0, matrix.shape[1]-1])\n",
    "#     norm = ply.colors.Normalize(vmin=-1, vmax=1)\n",
    "    plt.colorbar()\n",
    "    plt.gca().invert_yaxis()\n",
    "    plt.show()\n",
    "    plt.close('all')"
   ]
  },
  {
   "cell_type": "code",
   "execution_count": 1,
   "id": "specified-classroom",
   "metadata": {},
   "outputs": [
    {
     "ename": "NameError",
     "evalue": "name 'data_dir' is not defined",
     "output_type": "error",
     "traceback": [
      "\u001b[0;31m---------------------------------------------------------------------------\u001b[0m",
      "\u001b[0;31mNameError\u001b[0m                                 Traceback (most recent call last)",
      "\u001b[0;32m<ipython-input-1-5f4a37dc1e43>\u001b[0m in \u001b[0;36m<module>\u001b[0;34m\u001b[0m\n\u001b[0;32m----> 1\u001b[0;31m \u001b[0mfn\u001b[0m \u001b[0;34m=\u001b[0m \u001b[0;34m''\u001b[0m\u001b[0;34m.\u001b[0m\u001b[0mjoin\u001b[0m\u001b[0;34m(\u001b[0m\u001b[0;34m[\u001b[0m\u001b[0mdata_dir\u001b[0m\u001b[0;34m,\u001b[0m \u001b[0mtraining_scan\u001b[0m\u001b[0;34m,\u001b[0m \u001b[0;34m'tr_scan_d_'\u001b[0m\u001b[0;34m,\u001b[0m \u001b[0;34m'000'\u001b[0m\u001b[0;34m,\u001b[0m \u001b[0;34m'.ply'\u001b[0m\u001b[0;34m]\u001b[0m\u001b[0;34m)\u001b[0m\u001b[0;34m\u001b[0m\u001b[0;34m\u001b[0m\u001b[0m\n\u001b[0m\u001b[1;32m      2\u001b[0m \u001b[0mpd\u001b[0m \u001b[0;34m=\u001b[0m \u001b[0mPlyData\u001b[0m\u001b[0;34m.\u001b[0m\u001b[0mread\u001b[0m\u001b[0;34m(\u001b[0m\u001b[0mfn\u001b[0m\u001b[0;34m)\u001b[0m\u001b[0;34m\u001b[0m\u001b[0;34m\u001b[0m\u001b[0m\n\u001b[1;32m      3\u001b[0m \u001b[0mprint\u001b[0m\u001b[0;34m(\u001b[0m\u001b[0mpd\u001b[0m\u001b[0;34m)\u001b[0m\u001b[0;34m\u001b[0m\u001b[0;34m\u001b[0m\u001b[0m\n\u001b[1;32m      4\u001b[0m \u001b[0mx_coord\u001b[0m \u001b[0;34m=\u001b[0m \u001b[0mpd\u001b[0m\u001b[0;34m[\u001b[0m\u001b[0;34m'vertex'\u001b[0m\u001b[0;34m]\u001b[0m\u001b[0;34m.\u001b[0m\u001b[0mdata\u001b[0m\u001b[0;34m[\u001b[0m\u001b[0;34m'x'\u001b[0m\u001b[0;34m]\u001b[0m\u001b[0;34m\u001b[0m\u001b[0;34m\u001b[0m\u001b[0m\n\u001b[1;32m      5\u001b[0m \u001b[0my_coord\u001b[0m \u001b[0;34m=\u001b[0m \u001b[0mpd\u001b[0m\u001b[0;34m[\u001b[0m\u001b[0;34m'vertex'\u001b[0m\u001b[0;34m]\u001b[0m\u001b[0;34m.\u001b[0m\u001b[0mdata\u001b[0m\u001b[0;34m[\u001b[0m\u001b[0;34m'y'\u001b[0m\u001b[0;34m]\u001b[0m\u001b[0;34m\u001b[0m\u001b[0;34m\u001b[0m\u001b[0m\n",
      "\u001b[0;31mNameError\u001b[0m: name 'data_dir' is not defined"
     ]
    }
   ],
   "source": [
    "fn = ''.join([data_dir, training_scan, 'tr_scan_d_', '000', '.ply'])\n",
    "pd = PlyData.read(fn)\n",
    "print(pd)\n",
    "x_coord = pd['vertex'].data['x']\n",
    "y_coord = pd['vertex'].data['y']\n",
    "z_coord = pd['vertex'].data['z']\n",
    "\n",
    "vert = []\n",
    "vert.append(x_coord)\n",
    "vert.append(y_coord)\n",
    "vert.append(z_coord)\n",
    "nvert = np.array(vert)\n",
    "nvert = nvert.transpose(1, 0)\n",
    "# print(nvert)\n",
    "# indices = pd['vertex_indices'].data\n",
    "face = pd['face'].data['vertex_indices']\n",
    "\n",
    "print(face)\n",
    "print(type(face[0]))\n",
    "print(type(face[0][0]))\n",
    "print(face[0])\n",
    "print(face[0][0])\n",
    "lface = []\n",
    "# array format does not match - moved to list and reconverted to ndarray\n",
    "for i in range(len(face)):\n",
    "#     new = face[0].astype(np.int64)\n",
    "    temp = []\n",
    "    temp.append(int(face[i][0]))\n",
    "    temp.append(int(face[i][1]))\n",
    "    temp.append(int(face[i][2]))\n",
    "# #     print(type(int(lf[0][2])))\n",
    "#     print(type(temp))\n",
    "    lface.append(temp)\n",
    "#     lface.append(np.asarray(list(face[i])))\n",
    "nface = np.array(lface)\n",
    "print(nface)\n",
    "\n",
    "copyf = np.copy(nface)\n",
    "\n",
    "dist_map = gdist.local_gdist_matrix(nvert, nface, max_distance=100)\n",
    "print(dist_map.shape)"
   ]
  },
  {
   "cell_type": "code",
   "execution_count": 33,
   "id": "statistical-device",
   "metadata": {},
   "outputs": [
    {
     "ename": "SyntaxError",
     "evalue": "unexpected EOF while parsing (<ipython-input-33-b9348efd8e88>, line 6)",
     "output_type": "error",
     "traceback": [
      "\u001b[0;36m  File \u001b[0;32m\"<ipython-input-33-b9348efd8e88>\"\u001b[0;36m, line \u001b[0;32m6\u001b[0m\n\u001b[0;31m    \u001b[0m\n\u001b[0m    ^\u001b[0m\n\u001b[0;31mSyntaxError\u001b[0m\u001b[0;31m:\u001b[0m unexpected EOF while parsing\n"
     ]
    }
   ],
   "source": [
    "def train_dist(fname):\n",
    "    for i in range(100):\n",
    "        \n",
    "    \n",
    "        \n",
    "    "
   ]
  },
  {
   "cell_type": "code",
   "execution_count": null,
   "id": "embedded-fence",
   "metadata": {},
   "outputs": [],
   "source": []
  }
 ],
 "metadata": {
  "kernelspec": {
   "display_name": "Python 3",
   "language": "python",
   "name": "python3"
  },
  "language_info": {
   "codemirror_mode": {
    "name": "ipython",
    "version": 3
   },
   "file_extension": ".py",
   "mimetype": "text/x-python",
   "name": "python",
   "nbconvert_exporter": "python",
   "pygments_lexer": "ipython3",
   "version": "3.8.0"
  }
 },
 "nbformat": 4,
 "nbformat_minor": 5
}
