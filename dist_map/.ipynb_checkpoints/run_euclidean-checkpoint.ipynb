{
 "cells": [
  {
   "cell_type": "code",
   "execution_count": 6,
   "id": "accepted-professor",
   "metadata": {},
   "outputs": [],
   "source": [
    "import numpy as np\n",
    "import torch\n",
    "from plyfile import PlyData, PlyElement\n",
    "import h5py"
   ]
  },
  {
   "cell_type": "code",
   "execution_count": 2,
   "id": "thirty-lecture",
   "metadata": {},
   "outputs": [],
   "source": [
    "data_dir = '../data/'\n",
    "training_reg = 'training/reg_100/'\n",
    "dist_dir = 'training/l2_dist/'"
   ]
  },
  {
   "cell_type": "code",
   "execution_count": 3,
   "id": "massive-humanitarian",
   "metadata": {},
   "outputs": [],
   "source": [
    "assert torch.cuda.is_available()\n",
    "device = torch.device(\"cuda:0\")"
   ]
  },
  {
   "cell_type": "code",
   "execution_count": 11,
   "id": "thorough-figure",
   "metadata": {},
   "outputs": [],
   "source": [
    "def l2_dist():\n",
    "    for i in range(100):\n",
    "        strnum = \"%03d\" % (i)\n",
    "        fn = ''.join([data_dir, training_reg, 'tr_reg_', strnum, '.ply'])\n",
    "        pd = PlyData.read(fn)\n",
    "        x_coord = pd['vertex'].data['x']\n",
    "        y_coord = pd['vertex'].data['y']\n",
    "        z_coord = pd['vertex'].data['z']\n",
    "    \n",
    "        vert = []\n",
    "        vert.append(x_coord)\n",
    "        vert.append(y_coord)\n",
    "        vert.append(z_coord)\n",
    "        nvert = np.array(vert)\n",
    "        nvert = nvert.transpose(1, 0)\n",
    "        \n",
    "#         face = pd['face'].data['vertex_indices']\n",
    "        \n",
    "#         lface = []\n",
    "#         # array format does not match - moved to list and reconverted to ndarray\n",
    "#         for i in range(len(face)):\n",
    "#             temp = []\n",
    "#             temp.append(int(face[i][0]))\n",
    "#             temp.append(int(face[i][1]))\n",
    "#             temp.append(int(face[i][2]))\n",
    "#             lface.append(temp)\n",
    "#         nface = np.array(lface) \n",
    "#         nface = nface.astype(dtype=np.int32)\n",
    "        \n",
    "        tvert = torch.from_numpy(nvert)\n",
    "#         tface = torch.from_numpy(nface)\n",
    "        \n",
    "        tvert = tvert.to(device)\n",
    "#         tface = tface.to(device)\n",
    "        \n",
    "        dist_map = torch.cdist(tvert, tvert)\n",
    "        distm = dist_map.detach().cpu().clone().numpy()\n",
    "        \n",
    "        print(\"yay!\")\n",
    "        save_fn = ''.join([data_dir, dist_dir, 'tr_reg_dist_', strnum, '.h5'])\n",
    "        h5file = h5py.File(save_fn, 'w')\n",
    "        h5file.create_dataset(\"l2_map\", data=distm)\n",
    "        h5file.close()"
   ]
  },
  {
   "cell_type": "code",
   "execution_count": null,
   "id": "interior-crazy",
   "metadata": {},
   "outputs": [
    {
     "name": "stdout",
     "output_type": "stream",
     "text": [
      "yay!\n",
      "yay!\n",
      "yay!\n",
      "yay!\n",
      "yay!\n",
      "yay!\n",
      "yay!\n",
      "yay!\n",
      "yay!\n",
      "yay!\n",
      "yay!\n",
      "yay!\n",
      "yay!\n",
      "yay!\n",
      "yay!\n",
      "yay!\n",
      "yay!\n",
      "yay!\n",
      "yay!\n",
      "yay!\n",
      "yay!\n",
      "yay!\n",
      "yay!\n",
      "yay!\n",
      "yay!\n",
      "yay!\n",
      "yay!\n",
      "yay!\n",
      "yay!\n",
      "yay!\n",
      "yay!\n",
      "yay!\n",
      "yay!\n",
      "yay!\n",
      "yay!\n",
      "yay!\n",
      "yay!\n",
      "yay!\n",
      "yay!\n",
      "yay!\n",
      "yay!\n",
      "yay!\n",
      "yay!\n",
      "yay!\n",
      "yay!\n",
      "yay!\n",
      "yay!\n",
      "yay!\n",
      "yay!\n",
      "yay!\n",
      "yay!\n",
      "yay!\n",
      "yay!\n",
      "yay!\n",
      "yay!\n",
      "yay!\n",
      "yay!\n",
      "yay!\n",
      "yay!\n"
     ]
    }
   ],
   "source": [
    "l2_dist()"
   ]
  },
  {
   "cell_type": "code",
   "execution_count": null,
   "id": "requested-stanley",
   "metadata": {},
   "outputs": [],
   "source": []
  }
 ],
 "metadata": {
  "kernelspec": {
   "display_name": "Python 3",
   "language": "python",
   "name": "python3"
  },
  "language_info": {
   "codemirror_mode": {
    "name": "ipython",
    "version": 3
   },
   "file_extension": ".py",
   "mimetype": "text/x-python",
   "name": "python",
   "nbconvert_exporter": "python",
   "pygments_lexer": "ipython3",
   "version": "3.8.0"
  }
 },
 "nbformat": 4,
 "nbformat_minor": 5
}
