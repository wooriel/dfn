{
 "cells": [
  {
   "cell_type": "code",
   "execution_count": 5,
   "id": "specific-nudist",
   "metadata": {},
   "outputs": [],
   "source": [
    "import argparse\n",
    "import h5py\n",
    "import numpy as np"
   ]
  },
  {
   "cell_type": "code",
   "execution_count": 6,
   "id": "unlike-papua",
   "metadata": {},
   "outputs": [],
   "source": [
    "# parse arguments\n",
    "# parser = argparse.ArgumentParser()\n",
    "# parser.add_argument('--data_dir', type=str, default='/data')\n",
    "# args = parser.parse_args()"
   ]
  },
  {
   "cell_type": "code",
   "execution_count": 7,
   "id": "emerging-astronomy",
   "metadata": {},
   "outputs": [],
   "source": [
    "# import h5py file\n",
    "def read_mesh(num):\n",
    "    try:\n",
    "        data_dir = '../data/'\n",
    "        training = True\n",
    "        scan = False\n",
    "        pre = 'tr_' if training else 'test_'\n",
    "        mid = 'reg_' if (training and not scan) else 'scan_'\n",
    "        num = '%03d' % (num)\n",
    "        filename = \"\".join([data_dir, pre, mid, num])\n",
    "        print(filename)\n",
    "        file = h5py.File('../data/tr_scan_010.h5', 'r')\n",
    "#         file = h5py.File(args.data_dir, 'r')\n",
    "        # assume there's only one data key\n",
    "        dkey = list(file.keys())[0]\n",
    "        print(dkey)\n",
    "        dset = file[dkey]\n",
    "        print(\"{0}, {1}\".format(dset.dtype, dset.shape))\n",
    "        nData = np.array(dset)\n",
    "        nData = np.transpose(nData)\n",
    "        print(nData.shape)\n",
    "        numVert = int(nData[0][0])\n",
    "        numFace = int(nData[0][1])\n",
    "        vert = nData[1:numVert+1]\n",
    "        print(\"numVert:{0}, vert shape:{1}\".format(numVert, vert.shape))\n",
    "        face = nData[numVert+1:numVert+numFace+1]\n",
    "        print(\"numFace:{0}, face shape:{1}\".format(numFace, face.shape))\n",
    "    except FileNotFoundError:\n",
    "        print('Cannot find the h5py binary file.');\n",
    "    return vert, face"
   ]
  },
  {
   "cell_type": "code",
   "execution_count": 40,
   "id": "novel-sentence",
   "metadata": {},
   "outputs": [],
   "source": [
    "# scale up by 100\n",
    "# def scale_up(factor, vertArr):\n",
    "#     scaleMatrix = np.identity(4)*100\n",
    "#     scaleMatrix[3, 3] = 1\n",
    "# #     print(scaleMatrix)\n",
    "#     res = []\n",
    "#     for i in range(vertArr.shape[0]):\n",
    "#         v4 = vertArr[i]\n",
    "#         v4 = np.append(v4, [1])\n",
    "#         resCoord = np.matmul(v4, scaleMatrix)\n",
    "#         res.append(resCoord[:3])\n",
    "#         # convert back into nparray\n",
    "#     to_ret = np.asarray(res)\n",
    "#     print(to_ret)\n",
    "#     return 0"
   ]
  },
  {
   "cell_type": "code",
   "execution_count": 41,
   "id": "lonely-failing",
   "metadata": {},
   "outputs": [],
   "source": [
    "def dist_matrix(p1, p2):\n",
    "    # p1, p2 are 3*1 ndarray\n",
    "    v4 = np.subtract(p1, p2)\n",
    "    v4 = np.append(v4, [1])\n",
    "    M = np.matmul(v4, np.transpose(v4))"
   ]
  },
  {
   "cell_type": "code",
   "execution_count": 42,
   "id": "caroline-ontario",
   "metadata": {},
   "outputs": [],
   "source": [
    "# implement shot descriptor\n",
    "def calc_shot(vertices, radius=0.5, minNeigh=5, nbin=10, nevec=150):\n",
    "    # surf_normal\n",
    "    # M: cov_matrix\n",
    "    M\n",
    "    return 0"
   ]
  },
  {
   "cell_type": "code",
   "execution_count": 43,
   "id": "devoted-journal",
   "metadata": {},
   "outputs": [
    {
     "name": "stdout",
     "output_type": "stream",
     "text": [
      "../data/tr_reg_023\n",
      "vf\n",
      "float64, (3, 44970)\n",
      "(44970, 3)\n",
      "numVert:15015, vert shape:(15015, 3)\n",
      "numFace:29954, face shape:(29954, 3)\n"
     ]
    }
   ],
   "source": [
    "if __name__ == \"__main__\":\n",
    "    [vert, face] = read_mesh(23)\n",
    "#     scale_up(100, vert)\n",
    "    scaledVert = vert*100\n",
    "    "
   ]
  }
 ],
 "metadata": {
  "kernelspec": {
   "display_name": "Python 3",
   "language": "python",
   "name": "python3"
  },
  "language_info": {
   "codemirror_mode": {
    "name": "ipython",
    "version": 3
   },
   "file_extension": ".py",
   "mimetype": "text/x-python",
   "name": "python",
   "nbconvert_exporter": "python",
   "pygments_lexer": "ipython3",
   "version": "3.8.0"
  }
 },
 "nbformat": 4,
 "nbformat_minor": 5
}
