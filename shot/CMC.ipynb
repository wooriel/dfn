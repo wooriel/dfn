{
 "cells": [
  {
   "cell_type": "code",
   "execution_count": 1,
   "id": "prime-breed",
   "metadata": {},
   "outputs": [],
   "source": [
    "import torch\n",
    "import numpy as np\n",
    "# import gc\n",
    "# import torch.utils.data.DataLoader as DataLoader\n",
    "import matplotlib.pyplot as plt"
   ]
  },
  {
   "cell_type": "code",
   "execution_count": 2,
   "id": "quantitative-working",
   "metadata": {},
   "outputs": [],
   "source": [
    "data_dir = '../data/'\n",
    "train_scan_d = 'training/scan_d/'\n",
    "test_scan_d = 'test/scan_d/'\n",
    "train_shot = 'training/reg_shot/'\n",
    "test_shot = 'test/scan_shot/'\n",
    "inter = 'inter_challenge.txt'\n",
    "intra = 'intra_challenge.txt'"
   ]
  },
  {
   "cell_type": "code",
   "execution_count": 3,
   "id": "ultimate-forwarding",
   "metadata": {},
   "outputs": [
    {
     "name": "stdout",
     "output_type": "stream",
     "text": [
      "cuda:0\n"
     ]
    }
   ],
   "source": [
    "assert torch.cuda.is_available()\n",
    "cuda_device = torch.device(\"cuda:0\")\n",
    "# print(cuda_device)"
   ]
  },
  {
   "cell_type": "code",
   "execution_count": 4,
   "id": "excellent-sunglasses",
   "metadata": {},
   "outputs": [],
   "source": [
    "def load_shot(fname):\n",
    "    num = 0\n",
    "    i = 0\n",
    "    shot = []\n",
    "    with open(fname) as f:\n",
    "        for line in f:\n",
    "            array = line.split()\n",
    "            num += len(array)\n",
    "            if len(array) > 0:\n",
    "                np_array = np.array(array)\n",
    "                f_array = np_array.astype(float)\n",
    "                t_array = torch.from_numpy(f_array)\n",
    "                shot.append(f_array)\n",
    "            i = i + 1\n",
    "    shot_np = np.array(shot)\n",
    "    shot_np = shot_np[shot_np[:,0].argsort()]\n",
    "#     print(shot_np)\n",
    "    shot_ret = shot_np[:, 4:]\n",
    "    shot_ret = shot_np\n",
    "    t_shot = torch.from_numpy(shot_ret) #shot_ret\n",
    "    t_shot = torch.unsqueeze(t_shot, 0).float().to(cuda_device)\n",
    "#     t_shot = torch.from_numpy(shot_ret).float().to(cuda_device)\n",
    "    f.close()\n",
    "    return t_shot"
   ]
  },
  {
   "cell_type": "code",
   "execution_count": 5,
   "id": "tired-mouse",
   "metadata": {},
   "outputs": [],
   "source": [
    "def load_pairs(challenge):\n",
    "    intraFname = ''.join([data_dir, intra])\n",
    "    interFname = ''.join([data_dir, inter])\n",
    "    pairs = []\n",
    "    assert challenge == 'intra' or challenge == 'inter' or challenge == 'both'\n",
    "    if challenge == 'intra' or challenge == 'both':\n",
    "        with open(intraFname) as f:\n",
    "            for line in f:\n",
    "                array = line.split('_')\n",
    "                array[1] = array[1][:-1]\n",
    "                pairs.append(array)\n",
    "    if challenge == 'inter' or challenge == 'both':\n",
    "        with open(interFname) as f:\n",
    "            for line in f:\n",
    "                array = line.split('_')\n",
    "                array[1] = array[1][:-1]\n",
    "                pairs.append(array)\n",
    "    return pairs"
   ]
  },
  {
   "cell_type": "code",
   "execution_count": 6,
   "id": "chief-theory",
   "metadata": {},
   "outputs": [],
   "source": [
    "def compute_l2(des, des2, nump):\n",
    "    ##\n",
    "#     des = des.to(cuda_device)\n",
    "#     des2 = des2.to(cuda_device)\n",
    "#     des = torch.from_numpy(des).float().to(cuda_device)\n",
    "#     des2 = torch.from_numpy(des2).float().to(cuda_device)\n",
    "    \n",
    "    # maybe add condition that skip this process\n",
    "    rand_idx = np.random.choice(15000, nump, replace=False)\n",
    "    ridx_torch = torch.unsqueeze(torch.from_numpy(rand_idx), 0)\n",
    "    ##\n",
    "    ridx_torch = ridx_torch.to(cuda_device)\n",
    "    ridx_torch = torch.sort(ridx_torch[0], dim=-1)[0] # sort returns val and index\n",
    "    # reduced descriptor\n",
    "    des_n = torch.index_select(des[0], dim=0, index=ridx_torch)\n",
    "    des2_n = torch.index_select(des2[0], dim=0, index=ridx_torch)\n",
    "    with torch.cuda.device(0):\n",
    "        dist = torch.cdist(des_n, des2_n, p=2)\n",
    "    del des\n",
    "    del des2\n",
    "    del des_n\n",
    "    del des2_n\n",
    "    torch.cuda.empty_cache()\n",
    "    return dist"
   ]
  },
  {
   "cell_type": "code",
   "execution_count": 38,
   "id": "cooperative-radiation",
   "metadata": {},
   "outputs": [],
   "source": [
    "def find_hitrate(dist, k):\n",
    "    dist = dist.cpu()\n",
    "    # returns topk probability in float\n",
    "    topk = torch.unsqueeze(torch.topk(dist, k, dim=1, largest=False, sorted=True)[1], 0)\n",
    "    # 1*2500*k\n",
    "\n",
    "    hit = 0\n",
    "    size = topk.size(1)\n",
    "    for i in range(size):\n",
    "        if i in topk[0, i]:\n",
    "            hit += 1\n",
    "    return hit/size"
   ]
  },
  {
   "cell_type": "code",
   "execution_count": 65,
   "id": "incoming-surge",
   "metadata": {},
   "outputs": [],
   "source": [
    "def calculate_dist_map():\n",
    "    c = 'both'; # inter / intra / both\n",
    "    t = 'scan'; # reg (registration) / scan\n",
    "    pairs = load_pairs(c) # only load when t is 'scan'\n",
    "#     print(pairs)\n",
    "    xlim = 200\n",
    "    total_hitrate = [0 for x in range(xlim)]\n",
    "    for i in range(1, 100):\n",
    "        fn1 = ''.join([data_dir, test_shot, 'test_scan_d_res_', pairs[i][0], '.txt'])\n",
    "        fn2 = ''.join([data_dir, test_shot, 'test_scan_d_res_', pairs[i][1], '.txt'])\n",
    "        shot1 = load_shot(fn1)\n",
    "        shot2 = load_shot(fn2)\n",
    "        d_map = compute_l2(shot1, shot2, 2500)\n",
    "\n",
    "        for j in range(0, xlim):\n",
    "            total_hitrate[j] += find_hitrate(d_map, j)\n",
    "        \n",
    "        if i % 10 == 0:\n",
    "            cur_hitrate = np.array(total_hitrate)\n",
    "            cur_hitrate = np.true_divide(cur_hitrate, i)\n",
    "            print(cur_hitrate)\n",
    "            plt.plot([x for x in range(xlim)], cur_hitrate)\n",
    "            plt.show()\n",
    "        \n",
    "        del shot1\n",
    "        del shot2\n",
    "        torch.cuda.empty_cache()\n",
    "        \n",
    "    \n",
    "    cur_hitrate = np.true_divide(cur_hitrate, xlim)\n",
    "    plt.plot([x for x in range(xlim)], total_hitrate)\n",
    "    plt.savefig('shot_dist_map.png')\n",
    "        \n",
    "#     return total_hitrate\n",
    "    return"
   ]
  },
  {
   "cell_type": "code",
   "execution_count": 67,
   "id": "english-review",
   "metadata": {},
   "outputs": [
    {
     "name": "stdout",
     "output_type": "stream",
     "text": [
      "yay\n",
      "yay\n",
      "yay\n",
      "yay\n",
      "yay\n",
      "yay\n",
      "yay\n",
      "yay\n",
      "yay\n",
      "yay\n",
      "[0.      0.03    0.0562  0.07824 0.09516 0.10932 0.12    0.12964 0.13936\n",
      " 0.14944 0.16036 0.1726  0.18608 0.20164 0.2194  0.23836 0.25668 0.27636\n",
      " 0.29492 0.31488 0.33476 0.35428 0.3748  0.39272 0.41168 0.4308  0.44988\n",
      " 0.4694  0.48604 0.50416 0.52116 0.53728 0.55304 0.56764 0.58224 0.59628\n",
      " 0.61    0.62468 0.63804 0.65072 0.66692 0.67616 0.68584 0.69368 0.70252\n",
      " 0.71164 0.72152 0.73    0.74008 0.7486  0.75552 0.76352 0.77124 0.77848\n",
      " 0.78768 0.795   0.802   0.80936 0.81608 0.8224  0.82964 0.83636 0.84208\n",
      " 0.84852 0.85512 0.86156 0.86684 0.87272 0.87728 0.88252 0.88672 0.8906\n",
      " 0.89488 0.89948 0.90396 0.90772 0.91132 0.91472 0.91876 0.92248 0.92592\n",
      " 0.92928 0.93268 0.93644 0.93936 0.94204 0.94524 0.94816 0.9502  0.9528\n",
      " 0.95532 0.9576  0.96064 0.96316 0.96504 0.96708 0.96888 0.97092 0.97272\n",
      " 0.9744  0.9762  0.97784 0.97916 0.98064 0.98208 0.98332 0.98496 0.98608\n",
      " 0.98668 0.98768 0.98872 0.98944 0.99028 0.99108 0.99196 0.99256 0.993\n",
      " 0.99376 0.99436 0.995   0.9956  0.9962  0.99672 0.99712 0.99736 0.99752\n",
      " 0.99776 0.99808 0.99824 0.9984  0.9986  0.99888 0.999   0.99916 0.9992\n",
      " 0.9994  0.99944 0.99948 0.99956 0.9996  0.99968 0.99972 0.99976 0.9998\n",
      " 0.99984 0.99992 0.99992 1.      1.      1.      1.      1.      1.\n",
      " 1.      1.      1.      1.      1.      1.      1.      1.      1.\n",
      " 1.      1.      1.      1.      1.      1.      1.      1.      1.\n",
      " 1.      1.      1.      1.      1.      1.      1.      1.      1.\n",
      " 1.      1.      1.      1.      1.      1.      1.      1.      1.\n",
      " 1.      1.      1.      1.      1.      1.      1.      1.      1.\n",
      " 1.      1.     ]\n"
     ]
    },
    {
     "data": {
      "image/png": "[encoded data removed]",
      "text/plain": [
       "<Figure size 432x288 with 1 Axes>"
      ]
     },
     "metadata": {
      "needs_background": "light"
     },
     "output_type": "display_data"
    },
    {
     "name": "stdout",
     "output_type": "stream",
     "text": [
      "yay\n",
      "yay\n",
      "yay\n",
      "yay\n",
      "yay\n",
      "yay\n",
      "yay\n",
      "yay\n",
      "yay\n",
      "yay\n",
      "[0.      0.03136 0.0582  0.07982 0.09696 0.1109  0.12158 0.13112 0.14124\n",
      " 0.1517  0.1631  0.17552 0.18916 0.20476 0.22148 0.24038 0.25894 0.27774\n",
      " 0.29648 0.31624 0.33636 0.35552 0.37608 0.39444 0.41356 0.43172 0.45074\n",
      " 0.46964 0.48734 0.50518 0.5223  0.5386  0.55476 0.56932 0.58398 0.59822\n",
      " 0.61184 0.6261  0.63906 0.6517  0.6637  0.67276 0.68188 0.69074 0.70026\n",
      " 0.70966 0.71926 0.72798 0.73756 0.74624 0.7544  0.76246 0.77098 0.77866\n",
      " 0.7872  0.79428 0.802   0.80926 0.81584 0.82284 0.82996 0.83618 0.84182\n",
      " 0.84806 0.85428 0.86012 0.86576 0.87142 0.87592 0.88104 0.88574 0.8898\n",
      " 0.89442 0.89904 0.9034  0.90712 0.91102 0.91454 0.91834 0.92246 0.9261\n",
      " 0.92952 0.93296 0.93632 0.93924 0.9423  0.9457  0.9486  0.95108 0.95364\n",
      " 0.95618 0.95856 0.96106 0.96346 0.96536 0.96744 0.96922 0.97116 0.97286\n",
      " 0.97422 0.9761  0.97772 0.97898 0.98032 0.98166 0.98278 0.9843  0.98556\n",
      " 0.98644 0.98756 0.9887  0.98956 0.99036 0.99126 0.99214 0.9928  0.99328\n",
      " 0.99382 0.99434 0.99498 0.99552 0.99614 0.99666 0.9971  0.99742 0.99764\n",
      " 0.99796 0.99824 0.99844 0.99856 0.9987  0.9989  0.999   0.99916 0.9992\n",
      " 0.99938 0.99944 0.99952 0.9996  0.99968 0.99972 0.99976 0.99978 0.99982\n",
      " 0.99986 0.99992 0.99992 0.99996 0.99996 0.99996 1.      1.      1.\n",
      " 1.      1.      1.      1.      1.      1.      1.      1.      1.\n",
      " 1.      1.      1.      1.      1.      1.      1.      1.      1.\n",
      " 1.      1.      1.      1.      1.      1.      1.      1.      1.\n",
      " 1.      1.      1.      1.      1.      1.      1.      1.      1.\n",
      " 1.      1.      1.      1.      1.      1.      1.      1.      1.\n",
      " 1.      1.     ]\n"
     ]
    },
    {
     "data": {
      "image/png": "[encoded data removed]",
      "text/plain": [
       "<Figure size 432x288 with 1 Axes>"
      ]
     },
     "metadata": {
      "needs_background": "light"
     },
     "output_type": "display_data"
    },
    {
     "name": "stdout",
     "output_type": "stream",
     "text": [
      "yay\n",
      "yay\n",
      "yay\n",
      "yay\n",
      "yay\n",
      "yay\n",
      "yay\n",
      "yay\n",
      "yay\n",
      "yay\n",
      "[0.         0.03166667 0.0586     0.0802     0.0976     0.11129333\n",
      " 0.12202667 0.1318     0.14186667 0.15234667 0.16378667 0.176\n",
      " 0.18994667 0.20592    0.22298667 0.24144    0.26018667 0.27921333\n",
      " 0.29754667 0.31676    0.33658667 0.35629333 0.37625333 0.39553333\n",
      " 0.41533333 0.43448    0.45304    0.47178667 0.48966667 0.50770667\n",
      " 0.52484    0.54133333 0.55713333 0.572      0.58657333 0.60081333\n",
      " 0.61425333 0.628      0.64082667 0.65308    0.66409333 0.67348\n",
      " 0.68278667 0.69198667 0.7014     0.71128    0.72092    0.72978667\n",
      " 0.73881333 0.74736    0.75628    0.76465333 0.77278667 0.78033333\n",
      " 0.7884     0.79534667 0.80316    0.81036    0.81693333 0.82392\n",
      " 0.83096    0.83705333 0.84268    0.84868    0.85446667 0.86024\n",
      " 0.866      0.87133333 0.87584    0.88096    0.88581333 0.89018667\n",
      " 0.89472    0.89910667 0.90324    0.90713333 0.91104    0.91464\n",
      " 0.91822667 0.92217333 0.92597333 0.92946667 0.93270667 0.93618667\n",
      " 0.93926667 0.94229333 0.94550667 0.94844    0.95112    0.9538\n",
      " 0.95637333 0.95872    0.96129333 0.96370667 0.96572    0.9678\n",
      " 0.96957333 0.97150667 0.97329333 0.97476    0.97654667 0.97810667\n",
      " 0.97924    0.98057333 0.98182667 0.98293333 0.98434667 0.9856\n",
      " 0.98668    0.98770667 0.98874667 0.98950667 0.99021333 0.99102667\n",
      " 0.99182667 0.99254667 0.99305333 0.99372    0.99433333 0.99493333\n",
      " 0.99546667 0.99598667 0.99650667 0.99701333 0.99733333 0.99752\n",
      " 0.99778667 0.99810667 0.99833333 0.99853333 0.99866667 0.99888\n",
      " 0.99901333 0.99916    0.99925333 0.9994     0.99945333 0.99957333\n",
      " 0.99965333 0.99973333 0.99977333 0.9998     0.99981333 0.99984\n",
      " 0.99986667 0.99990667 0.99993333 0.99996    0.99996    0.99996\n",
      " 0.99998667 0.99998667 1.         1.         1.         1.\n",
      " 1.         1.         1.         1.         1.         1.\n",
      " 1.         1.         1.         1.         1.         1.\n",
      " 1.         1.         1.         1.         1.         1.\n",
      " 1.         1.         1.         1.         1.         1.\n",
      " 1.         1.         1.         1.         1.         1.\n",
      " 1.         1.         1.         1.         1.         1.\n",
      " 1.         1.         1.         1.         1.         1.\n",
      " 1.         1.        ]\n"
     ]
    },
    {
     "data": {
      "image/png": "[encoded data removed]",
      "text/plain": [
       "<Figure size 432x288 with 1 Axes>"
      ]
     },
     "metadata": {
      "needs_background": "light"
     },
     "output_type": "display_data"
    },
    {
     "name": "stdout",
     "output_type": "stream",
     "text": [
      "yay\n",
      "yay\n",
      "yay\n",
      "yay\n",
      "yay\n",
      "yay\n",
      "yay\n",
      "yay\n",
      "yay\n",
      "yay\n",
      "[0.      0.03192 0.05863 0.08019 0.0974  0.11107 0.12195 0.1316  0.14176\n",
      " 0.1524  0.16405 0.17625 0.19015 0.20624 0.22342 0.2417  0.26055 0.27964\n",
      " 0.29817 0.31745 0.33689 0.35602 0.37562 0.39441 0.41399 0.43299 0.4516\n",
      " 0.47019 0.48778 0.50571 0.52255 0.53876 0.55454 0.56972 0.58458 0.59895\n",
      " 0.61221 0.62584 0.63875 0.65148 0.66376 0.67314 0.68275 0.69218 0.70152\n",
      " 0.71121 0.72058 0.72945 0.73823 0.74671 0.75565 0.76389 0.77202 0.77976\n",
      " 0.78784 0.79493 0.8027  0.80973 0.81639 0.82308 0.82985 0.8361  0.84206\n",
      " 0.8481  0.8539  0.85956 0.86539 0.87056 0.87516 0.8803  0.88506 0.88944\n",
      " 0.8939  0.89833 0.9023  0.90623 0.90995 0.91349 0.91707 0.92088 0.92458\n",
      " 0.92814 0.93149 0.93493 0.938   0.941   0.94421 0.94713 0.94967 0.95245\n",
      " 0.95515 0.95756 0.96026 0.96269 0.965   0.96717 0.969   0.97091 0.97275\n",
      " 0.97422 0.97598 0.97754 0.97879 0.98016 0.98151 0.98265 0.984   0.98528\n",
      " 0.98626 0.98731 0.98829 0.98902 0.98975 0.99054 0.99134 0.99203 0.9926\n",
      " 0.9933  0.99393 0.99453 0.9951  0.99562 0.99614 0.9966  0.99691 0.99712\n",
      " 0.99743 0.99775 0.99802 0.99823 0.99842 0.99863 0.99882 0.99902 0.99913\n",
      " 0.9993  0.99936 0.99946 0.99956 0.99964 0.99968 0.99973 0.99975 0.99977\n",
      " 0.99982 0.99986 0.99989 0.99992 0.99993 0.99995 0.99997 0.99998 0.99999\n",
      " 1.      1.      1.      1.      1.      1.      1.      1.      1.\n",
      " 1.      1.      1.      1.      1.      1.      1.      1.      1.\n",
      " 1.      1.      1.      1.      1.      1.      1.      1.      1.\n",
      " 1.      1.      1.      1.      1.      1.      1.      1.      1.\n",
      " 1.      1.      1.      1.      1.      1.      1.      1.      1.\n",
      " 1.      1.     ]\n"
     ]
    },
    {
     "data": {
      "image/png": "[encoded data removed]",
      "text/plain": [
       "<Figure size 432x288 with 1 Axes>"
      ]
     },
     "metadata": {
      "needs_background": "light"
     },
     "output_type": "display_data"
    },
    {
     "name": "stdout",
     "output_type": "stream",
     "text": [
      "yay\n",
      "yay\n",
      "yay\n",
      "yay\n",
      "yay\n",
      "yay\n",
      "yay\n",
      "yay\n",
      "yay\n",
      "yay\n",
      "[0.       0.03204  0.058672 0.080352 0.097512 0.110968 0.121864 0.131568\n",
      " 0.14164  0.152264 0.163968 0.176272 0.190304 0.206264 0.223536 0.241824\n",
      " 0.260872 0.280056 0.298632 0.317824 0.337    0.356296 0.375888 0.394888\n",
      " 0.414608 0.433616 0.452112 0.470728 0.488096 0.506168 0.523112 0.539232\n",
      " 0.55504  0.57044  0.5852   0.599816 0.613024 0.6266   0.63968  0.652392\n",
      " 0.66372  0.673144 0.682736 0.692216 0.701696 0.711152 0.720408 0.729304\n",
      " 0.738304 0.74672  0.755552 0.763776 0.771864 0.779664 0.787688 0.794848\n",
      " 0.802792 0.80992  0.816696 0.823304 0.829832 0.836112 0.842056 0.848112\n",
      " 0.853912 0.859472 0.865312 0.87052  0.875208 0.880192 0.884952 0.889296\n",
      " 0.893704 0.898136 0.9022   0.906216 0.91004  0.913568 0.91732  0.921176\n",
      " 0.924896 0.928432 0.931792 0.935192 0.938296 0.941376 0.944504 0.94752\n",
      " 0.950136 0.952856 0.955504 0.957944 0.96056  0.962848 0.96504  0.967168\n",
      " 0.96896  0.970864 0.972672 0.974064 0.975816 0.9774   0.978792 0.980144\n",
      " 0.981456 0.982608 0.98396  0.98524  0.98624  0.987264 0.98828  0.989096\n",
      " 0.989848 0.990656 0.991456 0.99212  0.992696 0.993376 0.993968 0.994584\n",
      " 0.995208 0.995688 0.9962   0.996664 0.996984 0.997192 0.997512 0.99784\n",
      " 0.99812  0.998376 0.998576 0.998752 0.998928 0.999112 0.999224 0.999368\n",
      " 0.999424 0.999504 0.999608 0.99968  0.999712 0.99976  0.999776 0.999808\n",
      " 0.999856 0.999888 0.999912 0.999936 0.999944 0.99996  0.999976 0.999984\n",
      " 0.999992 1.       1.       1.       1.       1.       1.       1.\n",
      " 1.       1.       1.       1.       1.       1.       1.       1.\n",
      " 1.       1.       1.       1.       1.       1.       1.       1.\n",
      " 1.       1.       1.       1.       1.       1.       1.       1.\n",
      " 1.       1.       1.       1.       1.       1.       1.       1.\n",
      " 1.       1.       1.       1.       1.       1.       1.       1.      ]\n"
     ]
    },
    {
     "data": {
      "image/png": "[encoded data removed]",
      "text/plain": [
       "<Figure size 432x288 with 1 Axes>"
      ]
     },
     "metadata": {
      "needs_background": "light"
     },
     "output_type": "display_data"
    },
    {
     "name": "stdout",
     "output_type": "stream",
     "text": [
      "yay\n",
      "yay\n",
      "yay\n",
      "yay\n",
      "yay\n",
      "yay\n",
      "yay\n",
      "yay\n",
      "yay\n",
      "yay\n",
      "[0.         0.032      0.05869333 0.08021333 0.09722    0.1109\n",
      " 0.12170667 0.1313     0.14139333 0.15214    0.16364    0.17610667\n",
      " 0.19016667 0.20602    0.22364    0.24210667 0.26108    0.28054\n",
      " 0.29921333 0.31854    0.33748667 0.35679333 0.37622    0.39543333\n",
      " 0.41528    0.43427333 0.45256    0.4708     0.48816    0.50619333\n",
      " 0.52289333 0.53908    0.5549     0.57025333 0.58512    0.59975333\n",
      " 0.61304667 0.62647333 0.63944    0.65212667 0.66384667 0.67316667\n",
      " 0.68280667 0.69239333 0.70165333 0.71104667 0.72035333 0.72933333\n",
      " 0.73838    0.74676667 0.75554667 0.76368    0.7718     0.77971333\n",
      " 0.78758    0.79465333 0.80244    0.80952667 0.81630667 0.82284\n",
      " 0.82934    0.8356     0.84158    0.84771333 0.8536     0.85914667\n",
      " 0.8649     0.87004    0.87460667 0.87965333 0.88438    0.88882667\n",
      " 0.8933     0.89771333 0.90179333 0.90580667 0.90959333 0.9131\n",
      " 0.91689333 0.92084667 0.92451333 0.92802    0.93142    0.9348\n",
      " 0.93797333 0.94113333 0.94434667 0.94726    0.94992    0.95264\n",
      " 0.9553     0.95777333 0.96042    0.96271333 0.96493333 0.96706\n",
      " 0.96878667 0.97062667 0.97241333 0.97394    0.97572667 0.9773\n",
      " 0.97864    0.97997333 0.98122667 0.98239333 0.98373333 0.98499333\n",
      " 0.98600667 0.98704667 0.98804    0.98888    0.98962    0.99046\n",
      " 0.99128667 0.99195333 0.99257333 0.99324    0.99386    0.99450667\n",
      " 0.99512667 0.99563333 0.99612    0.99660667 0.99692    0.99714667\n",
      " 0.99748    0.99780667 0.99810667 0.99837333 0.99858    0.99877333\n",
      " 0.99893333 0.99910667 0.99924    0.99938    0.99945333 0.99952667\n",
      " 0.99962    0.99970667 0.99974    0.99978667 0.99980667 0.99983333\n",
      " 0.99988    0.99990667 0.99992667 0.99994667 0.99995333 0.99996667\n",
      " 0.99998    0.99998667 0.99999333 1.         1.         1.\n",
      " 1.         1.         1.         1.         1.         1.\n",
      " 1.         1.         1.         1.         1.         1.\n",
      " 1.         1.         1.         1.         1.         1.\n",
      " 1.         1.         1.         1.         1.         1.\n",
      " 1.         1.         1.         1.         1.         1.\n",
      " 1.         1.         1.         1.         1.         1.\n",
      " 1.         1.         1.         1.         1.         1.\n",
      " 1.         1.        ]\n"
     ]
    },
    {
     "data": {
      "image/png": "[encoded data removed]",
      "text/plain": [
       "<Figure size 432x288 with 1 Axes>"
      ]
     },
     "metadata": {
      "needs_background": "light"
     },
     "output_type": "display_data"
    },
    {
     "name": "stdout",
     "output_type": "stream",
     "text": [
      "yay\n",
      "yay\n",
      "yay\n",
      "yay\n",
      "yay\n",
      "yay\n",
      "yay\n",
      "yay\n",
      "yay\n",
      "yay\n",
      "[0.         0.03184    0.05874286 0.08018857 0.09712571 0.111\n",
      " 0.122      0.13153143 0.14156571 0.15226286 0.16377143 0.17634857\n",
      " 0.19072571 0.20643429 0.22390857 0.24251429 0.26124571 0.28039429\n",
      " 0.29916    0.31822286 0.33710286 0.35626857 0.37557714 0.39473714\n",
      " 0.41482857 0.43394857 0.45226857 0.47061143 0.48808    0.50599429\n",
      " 0.52278286 0.53892    0.55454286 0.56983429 0.58468571 0.59936571\n",
      " 0.61284    0.62630286 0.63925714 0.65198857 0.66412571 0.67353143\n",
      " 0.68312    0.69269143 0.70174286 0.71107429 0.72038286 0.72944571\n",
      " 0.73846286 0.74680571 0.75534857 0.76349143 0.77153714 0.77944\n",
      " 0.78718857 0.79413143 0.80191429 0.80894857 0.81564    0.82214857\n",
      " 0.82864    0.83495429 0.84091429 0.84708571 0.85293714 0.85856\n",
      " 0.86433714 0.86953714 0.87416571 0.87917143 0.88384    0.88834286\n",
      " 0.89291429 0.89737714 0.90148    0.90551429 0.90942857 0.91306286\n",
      " 0.91694857 0.92088    0.92450857 0.92795429 0.93125714 0.93457143\n",
      " 0.93777143 0.94097714 0.94420571 0.94710286 0.94978857 0.95260571\n",
      " 0.95525714 0.95774286 0.96039429 0.96265143 0.96482857 0.96697714\n",
      " 0.96878857 0.97066286 0.97248571 0.97403429 0.97578286 0.97737143\n",
      " 0.97873143 0.98007429 0.98134286 0.98251429 0.98382857 0.98506857\n",
      " 0.98613143 0.98715429 0.98815429 0.98901143 0.98975429 0.99056\n",
      " 0.99137714 0.99204    0.99264571 0.99331429 0.99390857 0.99456571\n",
      " 0.99516    0.99568    0.99614286 0.99663429 0.99696571 0.99719429\n",
      " 0.99753143 0.99782857 0.99810857 0.99836571 0.99856    0.99876571\n",
      " 0.99892    0.99908    0.99922286 0.99937143 0.99945714 0.99952571\n",
      " 0.99962286 0.99970857 0.99973714 0.99978286 0.99982286 0.99984571\n",
      " 0.99988571 0.99990857 0.99993143 0.99994857 0.99995429 0.99996571\n",
      " 0.99998286 0.99998857 0.99999429 1.         1.         1.\n",
      " 1.         1.         1.         1.         1.         1.\n",
      " 1.         1.         1.         1.         1.         1.\n",
      " 1.         1.         1.         1.         1.         1.\n",
      " 1.         1.         1.         1.         1.         1.\n",
      " 1.         1.         1.         1.         1.         1.\n",
      " 1.         1.         1.         1.         1.         1.\n",
      " 1.         1.         1.         1.         1.         1.\n",
      " 1.         1.        ]\n"
     ]
    },
    {
     "data": {
      "image/png": "[encoded data removed]",
      "text/plain": [
       "<Figure size 432x288 with 1 Axes>"
      ]
     },
     "metadata": {
      "needs_background": "light"
     },
     "output_type": "display_data"
    },
    {
     "name": "stdout",
     "output_type": "stream",
     "text": [
      "yay\n",
      "yay\n",
      "yay\n",
      "yay\n",
      "yay\n",
      "yay\n",
      "yay\n",
      "yay\n",
      "yay\n",
      "yay\n",
      "[0.       0.03207  0.05891  0.080375 0.09737  0.11124  0.12228  0.13194\n",
      " 0.14195  0.152585 0.164    0.176625 0.19099  0.206625 0.224045 0.242545\n",
      " 0.261305 0.280475 0.29932  0.31842  0.33741  0.35668  0.37579  0.39477\n",
      " 0.414645 0.43363  0.45205  0.470395 0.487775 0.505615 0.522405 0.538495\n",
      " 0.55408  0.569365 0.584315 0.598925 0.6125   0.625975 0.63893  0.65167\n",
      " 0.664445 0.67382  0.683455 0.69293  0.70199  0.711305 0.720545 0.72962\n",
      " 0.73849  0.74673  0.7552   0.76342  0.77157  0.77943  0.78711  0.79415\n",
      " 0.801855 0.8089   0.815565 0.822045 0.828565 0.83492  0.840875 0.84704\n",
      " 0.852935 0.85841  0.86411  0.86925  0.8739   0.87886  0.88354  0.8881\n",
      " 0.892755 0.89719  0.901315 0.905375 0.90939  0.91307  0.91692  0.92079\n",
      " 0.924405 0.927915 0.93123  0.93454  0.93775  0.94095  0.94412  0.94702\n",
      " 0.94969  0.9525   0.955185 0.95767  0.96029  0.962595 0.964785 0.96695\n",
      " 0.968785 0.970635 0.97247  0.974035 0.97576  0.977355 0.978725 0.98007\n",
      " 0.98135  0.982555 0.98392  0.98512  0.986185 0.987215 0.98825  0.989115\n",
      " 0.989885 0.99072  0.991515 0.99215  0.992745 0.993385 0.993965 0.994615\n",
      " 0.9952   0.995695 0.996145 0.996605 0.996955 0.9972   0.99754  0.997815\n",
      " 0.99809  0.99835  0.998555 0.99876  0.998935 0.9991   0.999235 0.999385\n",
      " 0.999465 0.999535 0.99963  0.99971  0.999735 0.99978  0.99982  0.99985\n",
      " 0.99989  0.999915 0.99994  0.999955 0.99996  0.99997  0.999985 0.99999\n",
      " 0.999995 1.       1.       1.       1.       1.       1.       1.\n",
      " 1.       1.       1.       1.       1.       1.       1.       1.\n",
      " 1.       1.       1.       1.       1.       1.       1.       1.\n",
      " 1.       1.       1.       1.       1.       1.       1.       1.\n",
      " 1.       1.       1.       1.       1.       1.       1.       1.\n",
      " 1.       1.       1.       1.       1.       1.       1.       1.      ]\n"
     ]
    },
    {
     "data": {
      "image/png": "[encoded data removed]",
      "text/plain": [
       "<Figure size 432x288 with 1 Axes>"
      ]
     },
     "metadata": {
      "needs_background": "light"
     },
     "output_type": "display_data"
    },
    {
     "name": "stdout",
     "output_type": "stream",
     "text": [
      "yay\n",
      "yay\n",
      "yay\n",
      "yay\n",
      "yay\n",
      "yay\n",
      "yay\n",
      "yay\n",
      "yay\n",
      "yay\n",
      "[0.         0.03210222 0.05902222 0.08045778 0.09751111 0.11128444\n",
      " 0.12233778 0.13208444 0.14195111 0.15258667 0.16405333 0.17675556\n",
      " 0.19112889 0.20657333 0.22390667 0.24231111 0.26112444 0.28040444\n",
      " 0.29927111 0.31856    0.33746667 0.35681333 0.37594667 0.39495556\n",
      " 0.41451556 0.43345778 0.45192889 0.47025333 0.48757778 0.50533333\n",
      " 0.52218222 0.53847556 0.55411111 0.56953333 0.58450222 0.59899556\n",
      " 0.6128     0.62637778 0.63935111 0.65196444 0.66489778 0.67432889\n",
      " 0.68396889 0.69336444 0.7024     0.71168    0.72091556 0.72994222\n",
      " 0.73862222 0.74675556 0.75528    0.76352889 0.77168889 0.77951111\n",
      " 0.78722222 0.79432    0.80200444 0.809      0.81569333 0.82221333\n",
      " 0.82861778 0.83499111 0.84090222 0.84701778 0.85278667 0.85824889\n",
      " 0.86394667 0.86896889 0.87368889 0.87861333 0.88339111 0.88793333\n",
      " 0.89261333 0.89696889 0.90109333 0.90513778 0.90911111 0.91275556\n",
      " 0.91656444 0.92042667 0.92410222 0.92764    0.93101333 0.93437333\n",
      " 0.93758222 0.94079556 0.94400444 0.94694222 0.94965333 0.95250222\n",
      " 0.95522667 0.95763111 0.96024889 0.96255556 0.96479111 0.96693333\n",
      " 0.96876444 0.97063556 0.97248    0.97403556 0.97576889 0.97737778\n",
      " 0.97873333 0.98008444 0.98136444 0.98257778 0.98393778 0.98512889\n",
      " 0.98622222 0.98722222 0.98821778 0.98910667 0.98986667 0.99069333\n",
      " 0.99148    0.99212    0.99272889 0.99337333 0.99396889 0.99463556\n",
      " 0.99522222 0.99572    0.99617778 0.99662222 0.99698222 0.99723556\n",
      " 0.99756444 0.99782222 0.99808444 0.99834667 0.99854667 0.99875111\n",
      " 0.99894222 0.99909333 0.99922222 0.99937333 0.99946222 0.99953333\n",
      " 0.99962667 0.99970222 0.99972889 0.99977333 0.99980889 0.99984\n",
      " 0.99988889 0.99991556 0.99993778 0.99995556 0.99996    0.99996889\n",
      " 0.99998222 0.99998667 0.99999556 1.         1.         1.\n",
      " 1.         1.         1.         1.         1.         1.\n",
      " 1.         1.         1.         1.         1.         1.\n",
      " 1.         1.         1.         1.         1.         1.\n",
      " 1.         1.         1.         1.         1.         1.\n",
      " 1.         1.         1.         1.         1.         1.\n",
      " 1.         1.         1.         1.         1.         1.\n",
      " 1.         1.         1.         1.         1.         1.\n",
      " 1.         1.        ]\n"
     ]
    },
    {
     "data": {
      "image/png": "[encoded data removed]",
      "text/plain": [
       "<Figure size 432x288 with 1 Axes>"
      ]
     },
     "metadata": {
      "needs_background": "light"
     },
     "output_type": "display_data"
    },
    {
     "name": "stdout",
     "output_type": "stream",
     "text": [
      "yay\n",
      "yay\n",
      "yay\n",
      "yay\n",
      "yay\n",
      "yay\n",
      "yay\n",
      "yay\n",
      "yay\n"
     ]
    },
    {
     "data": {
      "image/png": "[encoded data removed]",
      "text/plain": [
       "<Figure size 432x288 with 1 Axes>"
      ]
     },
     "metadata": {
      "needs_background": "light"
     },
     "output_type": "display_data"
    }
   ],
   "source": [
    "calculate_dist_map()"
   ]
  },
  {
   "cell_type": "code",
   "execution_count": null,
   "id": "federal-latex",
   "metadata": {},
   "outputs": [],
   "source": []
  }
 ],
 "metadata": {
  "kernelspec": {
   "display_name": "Python 3",
   "language": "python",
   "name": "python3"
  },
  "language_info": {
   "codemirror_mode": {
    "name": "ipython",
    "version": 3
   },
   "file_extension": ".py",
   "mimetype": "text/x-python",
   "name": "python",
   "nbconvert_exporter": "python",
   "pygments_lexer": "ipython3",
   "version": "3.8.0"
  }
 },
 "nbformat": 4,
 "nbformat_minor": 5
}
