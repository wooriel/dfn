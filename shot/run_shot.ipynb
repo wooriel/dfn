{
 "cells": [
  {
   "cell_type": "code",
   "execution_count": null,
   "id": "activated-feeding",
   "metadata": {},
   "outputs": [],
   "source": [
    "'''\n",
    "This code runs SHOT descriptor on multiple faust datasets\n",
    "In order to do it, you must clone below repo in the same directory where this git is cloned.\n",
    "ㄴParent Directory\n",
    " ㄴdfn\n",
    " ㄴSHOT\n",
    "I already have shot descriptors for all training / test sets,\n",
    "but if you want to run the code, please run below code on the parent directory of dfn.\n",
    "git clone https://github.com/fedassa/SHOT\n",
    "\n",
    "There are three types of data: - arg you need to set / which methods to run\n",
    "ㄴTraining\n",
    " ㄴRegistered samples (6892 points) - set tr=True, reg=True   / run_shot(tr, reg)\n",
    " ㄴScanned samples (15000 points)   - set tr=True, reg=False  / run_scan_shot(tr, reg)\n",
    "ㄴTest\n",
    " ㄴScanned samples (15000 points)   - set tr=False, reg=False / run_scan_shot(tr, reg)\n",
    "'''"
   ]
  },
  {
   "cell_type": "code",
   "execution_count": 2,
   "id": "thousand-account",
   "metadata": {},
   "outputs": [],
   "source": [
    "import os"
   ]
  },
  {
   "cell_type": "code",
   "execution_count": 3,
   "id": "tribal-dress",
   "metadata": {},
   "outputs": [],
   "source": [
    "data_tr_reg = \"../data/training/reg_100/\"\n",
    "data_tr_reg_res = \"../data/training/reg_shot/\"\n",
    "\n",
    "data_tr_scan = \"../data/training/scan/\"\n",
    "data_tr_scan_d = \"../data/training/scan_d/\"\n",
    "data_tr_scan_shot = \"../data/training/scan_shot/\"\n",
    "\n",
    "data_test_scan = \"../data/test/scan/\"\n",
    "data_test_scan_d = \"../data/test/scan_d/\"\n",
    "data_test_scan_shot = \"../data/test/scan_shot/\"\n",
    "\n",
    "shot_program = \"../../SHOT/bin/SHOT\""
   ]
  },
  {
   "cell_type": "code",
   "execution_count": 4,
   "id": "parental-reflection",
   "metadata": {},
   "outputs": [],
   "source": [
    "def run_shot(training, registration):\n",
    "    if training and registration:\n",
    "        for i in range(100):\n",
    "            # generate file name\n",
    "            formatnum = \"%03d\" % (i)\n",
    "#             print(formatnum)\n",
    "            filename = \"\".join([\"tr_reg_\", formatnum, \".ply\"])\n",
    "            savename = \"\".join([\"tr_reg_res_\", formatnum, \".txt\"])\n",
    "            command = \"\".join([\n",
    "                shot_program,\n",
    "                \" -b \", \"10\",\n",
    "                \" -n \", \"3\",\n",
    "                \" -r \", \"9\",\n",
    "                \" -k \", \"6890\",\n",
    "                \" -i \", data_tr_reg, filename,\n",
    "                \" -o \", data_tr_reg_res, savename,\n",
    "                \" -f\"\n",
    "            ]) # -k 6892\n",
    "#         print(command)\n",
    "            os.system(command)"
   ]
  },
  {
   "cell_type": "code",
   "execution_count": 5,
   "id": "dramatic-jumping",
   "metadata": {},
   "outputs": [],
   "source": [
    "def run_scan_shot(training, registration):\n",
    "    if training and not registration:\n",
    "        for i in range(100):\n",
    "            #generate file name\n",
    "            formatnum = \"%03d\" % (i)\n",
    "            filename = \"\".join([\"tr_scan_d_\", formatnum, \".ply\"])\n",
    "#             print(filename)\n",
    "            savename = \"\".join([\"tr_scan_d_res_\", formatnum, \".txt\"])\n",
    "            command = \"\".join([\n",
    "                shot_program,\n",
    "                \" -b \", \"10\",\n",
    "                \" -n \", \"3\",\n",
    "                \" -r \", \"9\",\n",
    "                \" -k \", \"15000\",\n",
    "                \" -i \", data_tr_scan_d, filename,\n",
    "                \" -o \", data_tr_scan_shot, savename,\n",
    "                \" -f\"\n",
    "            ])\n",
    "#         print(command)\n",
    "            os.system(command)\n",
    "    elif not training and not registration:\n",
    "        for i in range(200):\n",
    "            #generate file name\n",
    "            formatnum = \"%03d\" % (i)\n",
    "            filename = \"\".join([\"test_scan_d_\", formatnum, \".ply\"])\n",
    "            savename = \"\".join([\"test_scan_d_res_\", formatnum, \".txt\"])\n",
    "            command = \"\".join([\n",
    "                shot_program,\n",
    "                \" -b \", \"10\",\n",
    "                \" -n \", \"3\",\n",
    "                \" -r \", \"9\",\n",
    "                \" -k \", \"15000\",\n",
    "                \" -i \", data_test_scan_d, filename,\n",
    "                \" -o \", data_test_scan_shot, savename,\n",
    "                \" -f\"\n",
    "            ])\n",
    "            os.system(command)"
   ]
  },
  {
   "cell_type": "code",
   "execution_count": 7,
   "id": "further-prediction",
   "metadata": {},
   "outputs": [],
   "source": [
    "if __name__ == \"__main__\":\n",
    "    tr = False\n",
    "    reg = False\n",
    "    run_scan_shot(tr, reg)\n",
    "#     run_shot(tr, reg)"
   ]
  }
 ],
 "metadata": {
  "kernelspec": {
   "display_name": "Python 3",
   "language": "python",
   "name": "python3"
  },
  "language_info": {
   "codemirror_mode": {
    "name": "ipython",
    "version": 3
   },
   "file_extension": ".py",
   "mimetype": "text/x-python",
   "name": "python",
   "nbconvert_exporter": "python",
   "pygments_lexer": "ipython3",
   "version": "3.8.0"
  }
 },
 "nbformat": 4,
 "nbformat_minor": 5
}
