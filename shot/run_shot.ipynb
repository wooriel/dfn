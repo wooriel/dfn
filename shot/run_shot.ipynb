{
 "cells": [
  {
   "cell_type": "code",
   "execution_count": 29,
   "id": "nearby-spanking",
   "metadata": {},
   "outputs": [],
   "source": [
    "import os"
   ]
  },
  {
   "cell_type": "code",
   "execution_count": 30,
   "id": "instrumental-american",
   "metadata": {},
   "outputs": [],
   "source": [
    "data_tr_reg = \"../data/training/reg/\"\n",
    "data_tr_reg_res = \"../data/training/reg_shot/\"\n",
    "data_tr_scan = \"../data/training/scan/\"\n",
    "data_test_scan = \"../data/test/scan/\"\n",
    "shot_program = \"../../SHOT/bin/SHOT\""
   ]
  },
  {
   "cell_type": "code",
   "execution_count": 31,
   "id": "revolutionary-gothic",
   "metadata": {},
   "outputs": [],
   "source": [
    "def run_shot(training, registration):\n",
    "    if training and registration:\n",
    "        for i in range(100):\n",
    "            # generate file name\n",
    "            formatnum = \"%03d\" % (i)\n",
    "#             print(formatnum)\n",
    "            filename = \"\".join([\"tr_reg_\", formatnum, \".ply\"])\n",
    "            savename = \"\".join([\"tr_reg_res_\", formatnum, \".txt\"])\n",
    "            command = \"\".join([shot_program, \" -i \", data_tr_reg, filename, \" -o \", data_tr_reg_res, savename, \" -f\"])\n",
    "#         print(command)\n",
    "            os.system(command)"
   ]
  },
  {
   "cell_type": "code",
   "execution_count": 32,
   "id": "olive-camping",
   "metadata": {},
   "outputs": [],
   "source": [
    "if __name__ == \"__main__\":\n",
    "    tr = True\n",
    "    reg = True\n",
    "    run_shot(tr, reg)"
   ]
  },
  {
   "cell_type": "code",
   "execution_count": null,
   "id": "positive-percentage",
   "metadata": {},
   "outputs": [],
   "source": []
  },
  {
   "cell_type": "code",
   "execution_count": null,
   "id": "temporal-heritage",
   "metadata": {},
   "outputs": [],
   "source": []
  }
 ],
 "metadata": {
  "kernelspec": {
   "display_name": "Python 3",
   "language": "python",
   "name": "python3"
  },
  "language_info": {
   "codemirror_mode": {
    "name": "ipython",
    "version": 3
   },
   "file_extension": ".py",
   "mimetype": "text/x-python",
   "name": "python",
   "nbconvert_exporter": "python",
   "pygments_lexer": "ipython3",
   "version": "3.8.0"
  }
 },
 "nbformat": 4,
 "nbformat_minor": 5
}
