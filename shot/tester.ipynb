{
 "cells": [
  {
   "cell_type": "code",
   "execution_count": 17,
   "id": "accomplished-affiliate",
   "metadata": {},
   "outputs": [],
   "source": [
    "import torch\n",
    "assert torch.cuda.is_available()\n",
    "device = torch.device(\"cuda:0\")\n",
    "import h5py\n",
    "import numpy as np"
   ]
  },
  {
   "cell_type": "code",
   "execution_count": 18,
   "id": "unknown-target",
   "metadata": {},
   "outputs": [],
   "source": [
    "data_dir = '../data/'\n",
    "train_dist = 'training/l2_dist/'"
   ]
  },
  {
   "cell_type": "code",
   "execution_count": 19,
   "id": "fallen-replacement",
   "metadata": {},
   "outputs": [
    {
     "name": "stdout",
     "output_type": "stream",
     "text": [
      "<class 'numpy.ndarray'>\n"
     ]
    }
   ],
   "source": [
    "a = torch.randn(2, 4)\n",
    "a.to(device)\n",
    "b = a.detach().cpu().clone().numpy()\n",
    "print(type(b))"
   ]
  },
  {
   "cell_type": "code",
   "execution_count": 22,
   "id": "great-tower",
   "metadata": {},
   "outputs": [],
   "source": [
    "def load_dist(fname):\n",
    "    file = h5py.File(fname, 'r')\n",
    "    dkey = list(file.keys())[0]\n",
    "    dset = file[dkey]\n",
    "    nData = np.array(dset)\n",
    "    nData = np.transpose(nData)\n",
    "\n",
    "    vertice = nData[:]\n",
    "    nd_vert = np.array(vertice)\n",
    "    nd_vert = nd_vert.astype(float)\n",
    "    t_vert = torch.from_numpy(nd_vert)\n",
    "\n",
    "    return t_vert"
   ]
  },
  {
   "cell_type": "code",
   "execution_count": 23,
   "id": "comparable-negotiation",
   "metadata": {},
   "outputs": [],
   "source": []
  },
  {
   "cell_type": "code",
   "execution_count": 24,
   "id": "distinguished-paste",
   "metadata": {},
   "outputs": [
    {
     "name": "stdout",
     "output_type": "stream",
     "text": [
      "torch.Size([6890, 6890])\n"
     ]
    }
   ],
   "source": [
    "fn = ''.join([data_dir, train_dist, 'tr_reg_dist_', '000', '.h5'])\n",
    "a = load_dist(fn)\n",
    "print(a.shape)"
   ]
  },
  {
   "cell_type": "code",
   "execution_count": 9,
   "id": "different-petersburg",
   "metadata": {},
   "outputs": [
    {
     "name": "stdout",
     "output_type": "stream",
     "text": [
      "2\n"
     ]
    }
   ],
   "source": [
    "a = torch.unsqueeze(torch.tensor([[1, 2, 3], [2, 3, 4], [3, 4, 5]]), 0).to(device)\n",
    "# print(2 in a)\n",
    "# for i in range(3)\n",
    "#     c = torch.where(torch.eq(a[0], i))\n",
    "b = 1\n",
    "c = 0\n",
    "c += b\n",
    "c += b\n",
    "print(c)"
   ]
  },
  {
   "cell_type": "code",
   "execution_count": 23,
   "id": "rough-plane",
   "metadata": {},
   "outputs": [
    {
     "name": "stdout",
     "output_type": "stream",
     "text": [
      "tensor([[32, 32],\n",
      "        [32, 32]])\n",
      "tensor([[32, 32],\n",
      "        [32, 32]])\n",
      "tensor([[ 8, 10, 12],\n",
      "        [16, 20, 24],\n",
      "        [24, 30, 36]])\n",
      "tensor([[[ 8, 10, 12],\n",
      "         [16, 20, 24],\n",
      "         [24, 30, 36]]])\n",
      "torch.Size([1, 3, 3])\n",
      "torch.Size([1, 1])\n",
      "tensor([[[[ 8, 10, 12],\n",
      "          [16, 20, 24],\n",
      "          [24, 30, 36]]],\n",
      "\n",
      "\n",
      "        [[[ 8, 10, 12],\n",
      "          [16, 20, 24],\n",
      "          [24, 30, 36]]]])\n",
      "tensor([[[[ 8, 10, 12],\n",
      "          [16, 20, 24],\n",
      "          [24, 30, 36]]],\n",
      "\n",
      "\n",
      "        [[[ 8, 10, 12],\n",
      "          [16, 20, 24],\n",
      "          [24, 30, 36]]]])\n"
     ]
    }
   ],
   "source": [
    "a = torch.tensor([[1, 2, 3], [1, 2, 3]])\n",
    "b = torch.tensor([[4, 5, 6], [4, 5, 6]])\n",
    "c = b @ a.transpose(1, 0)\n",
    "d = torch.matmul(b, a.transpose(1, 0))\n",
    "e = a.transpose(1, 0) @ b\n",
    "f = a.transpose(1, 0) @ b\n",
    "f = f.unsqueeze(0)\n",
    "print(c)\n",
    "print(d)\n",
    "print(e)\n",
    "print(f)\n",
    "print(f.size())\n",
    "g = torch.empty(f.size(0), f.size(1), f.size(2)).unsqueeze(0)\n",
    "g = torch.empty(f.size(0)).unsqueeze(0)\n",
    "print(g.size())\n",
    "g = f.unsqueeze(0)\n",
    "# h = torch.cat((g, f.unsqueeze(0)), dim=0)\n",
    "h = torch.cat((g, f.unsqueeze(0)), dim=0)\n",
    "i = f.unsqueeze(0)\n",
    "i = torch.cat((i, f.unsqueeze(0)), dim=0)\n",
    "\n",
    "print(h)\n",
    "print(i)"
   ]
  },
  {
   "cell_type": "code",
   "execution_count": 11,
   "id": "southern-celtic",
   "metadata": {},
   "outputs": [
    {
     "name": "stdout",
     "output_type": "stream",
     "text": [
      "tensor([[[-0.4818, -0.0703,  0.8571],\n",
      "         [ 0.2054, -1.2502, -1.0211]]])\n",
      "2\n"
     ]
    }
   ],
   "source": [
    "a = torch.randn(2, 3)\n",
    "if True:\n",
    "    C = a.unsqueeze(0)[:,  :2, :]\n",
    "print(C)\n",
    "print(C.size(1))"
   ]
  },
  {
   "cell_type": "code",
   "execution_count": 2,
   "id": "british-montana",
   "metadata": {},
   "outputs": [],
   "source": [
    "cuda_device = torch.device(\"cuda\") if torch.cuda.is_available() else torch.device('cpu')"
   ]
  },
  {
   "cell_type": "code",
   "execution_count": 18,
   "id": "written-vegetable",
   "metadata": {},
   "outputs": [
    {
     "name": "stdout",
     "output_type": "stream",
     "text": [
      "tensor([[ 1.3770, -0.0073, -0.1430],\n",
      "        [-2.1186, -1.9270,  2.0436],\n",
      "        [-0.5770,  0.9278, -0.0263]], device='cuda:0')\n",
      "tensor(3.9356, device='cuda:0')\n",
      "tensor([ 1.3770, -0.0073, -0.1430, -2.1186, -1.9270,  2.0436, -0.5770,  0.9278,\n",
      "        -0.0263], device='cuda:0')\n",
      "tensor(3.9356, device='cuda:0')\n",
      "tensor(1.3844, device='cuda:0')\n",
      "tensor(3.5182, device='cuda:0')\n",
      "tensor(1.0929, device='cuda:0')\n"
     ]
    }
   ],
   "source": [
    "with torch.cuda.device(0):\n",
    "    a = torch.randn(3, 3).to(device=cuda_device)\n",
    "    print(a)\n",
    "    res = torch.norm(a)\n",
    "    print(res)\n",
    "    \n",
    "    b = a.flatten()\n",
    "    print(b)\n",
    "    res2 = torch.norm(b)\n",
    "    print(res2)\n",
    "    \n",
    "#     c = torch.randn(5, 5).to(device=cuda_device)\n",
    "    res3 = torch.norm(a[0])\n",
    "    res4 = torch.norm(a[1])\n",
    "    res5 = torch.norm(a[2])\n",
    "    print(res3)\n",
    "    print(res4)\n",
    "    print(res5)"
   ]
  },
  {
   "cell_type": "code",
   "execution_count": null,
   "id": "optimum-behalf",
   "metadata": {},
   "outputs": [],
   "source": [
    "# memory load\n",
    "# def get_shot_dic(parr):\n",
    "#     # create shot dictionary in inter - intra pair order\n",
    "#     # if only one of them is loaded, then only that intra or inter challenge is loaded\n",
    "#     shot_dic = {}\n",
    "#     print(\"Start generating dictionary, it will take a while\")\n",
    "# #     print(parr)\n",
    "#     for i in range(100):\n",
    "# #         print(parr[i])\n",
    "#         fn1 = ''.join([data_dir, test_shot, 'test_scan_d_res_', parr[i][0], '.txt'])\n",
    "#         fn2 = ''.join([data_dir, test_shot, 'test_scan_d_res_', parr[i][1], '.txt'])\n",
    "#         shot1 = load_shot(fn1)\n",
    "#         shot2 = load_shot(fn2)\n",
    "#         shot_dic[tuple(parr[i])] = [shot1, shot2]\n",
    "#     print(\"Finished generating shot dictionary!\")   \n",
    "#     return shot_dic"
   ]
  },
  {
   "cell_type": "code",
   "execution_count": 1,
   "id": "white-royalty",
   "metadata": {},
   "outputs": [
    {
     "name": "stdout",
     "output_type": "stream",
     "text": [
      "[0, 1, 2, 3, 4, 5, 6, 7, 8, 9, 10, 11, 12, 13, 14, 15, 16, 17, 18, 19, 20, 21, 22, 23, 24, 25, 26, 27, 28, 29, 30, 31, 32, 33, 34, 35, 36, 37, 38, 39, 40, 41, 42, 43, 44, 45, 46, 47, 48, 49, 50, 51, 52, 53, 54, 55, 56, 57, 58, 59, 60, 61, 62, 63, 64, 65, 66, 67, 68, 69, 70, 71, 72, 73, 74, 75, 76, 77, 78, 79, 80, 81, 82, 83, 84, 85, 86, 87, 88, 89, 90, 91, 92, 93, 94, 95, 96, 97, 98, 99, 100, 101, 102, 103, 104, 105, 106, 107, 108, 109, 110, 111, 112, 113, 114, 115, 116, 117, 118, 119, 120, 121, 122, 123, 124, 125, 126, 127, 128, 129, 130, 131, 132, 133, 134, 135, 136, 137, 138, 139, 140, 141, 142, 143, 144, 145, 146, 147, 148, 149, 150, 151, 152, 153, 154, 155, 156, 157, 158, 159, 160, 161, 162, 163, 164, 165, 166, 167, 168, 169, 170, 171, 172, 173, 174, 175, 176, 177, 178, 179, 180, 181, 182, 183, 184, 185, 186, 187, 188, 189, 190, 191, 192, 193, 194, 195, 196, 197, 198, 199, 200, 201, 202, 203, 204, 205, 206, 207, 208, 209, 210, 211, 212, 213, 214, 215, 216, 217, 218, 219, 220, 221, 222, 223, 224, 225, 226, 227, 228, 229, 230, 231, 232, 233, 234, 235, 236, 237, 238, 239, 240, 241, 242, 243, 244, 245, 246, 247, 248, 249, 250, 251, 252, 253, 254, 255, 256, 257, 258, 259, 260, 261, 262, 263, 264, 265, 266, 267, 268, 269, 270, 271, 272, 273, 274, 275, 276, 277, 278, 279, 280, 281, 282, 283, 284, 285, 286, 287, 288, 289, 290, 291, 292, 293, 294, 295, 296, 297, 298, 299, 300, 301, 302, 303, 304, 305, 306, 307, 308, 309, 310, 311, 312, 313, 314, 315, 316, 317, 318, 319, 320, 321, 322, 323, 324, 325, 326, 327, 328, 329, 330, 331, 332, 333, 334, 335, 336, 337, 338, 339, 340, 341, 342, 343, 344, 345, 346, 347, 348, 349, 350, 351, 352, 353, 354, 355, 356, 357, 358, 359, 360, 361, 362, 363, 364, 365, 366, 367, 368, 369, 370, 371, 372, 373, 374, 375, 376, 377, 378, 379, 380, 381, 382, 383, 384, 385, 386, 387, 388, 389, 390, 391, 392, 393, 394, 395, 396, 397, 398, 399, 400, 401, 402, 403, 404, 405, 406, 407, 408, 409, 410, 411, 412, 413, 414, 415, 416, 417, 418, 419, 420, 421, 422, 423, 424, 425, 426, 427, 428, 429, 430, 431, 432, 433, 434, 435, 436, 437, 438, 439, 440, 441, 442, 443, 444, 445, 446, 447, 448, 449, 450, 451, 452, 453, 454, 455, 456, 457, 458, 459, 460, 461, 462, 463, 464, 465, 466, 467, 468, 469, 470, 471, 472, 473, 474, 475, 476, 477, 478, 479, 480, 481, 482, 483, 484, 485, 486, 487, 488, 489, 490, 491, 492, 493, 494, 495, 496, 497, 498, 499, 500, 501, 502, 503, 504, 505, 506, 507, 508, 509, 510, 511, 512, 513, 514, 515, 516, 517, 518, 519, 520, 521, 522, 523, 524, 525, 526, 527, 528, 529, 530, 531, 532, 533, 534, 535, 536, 537, 538, 539, 540, 541, 542, 543, 544, 545, 546, 547, 548, 549, 550, 551, 552, 553, 554, 555, 556, 557, 558, 559, 560, 561, 562, 563, 564, 565, 566, 567, 568, 569, 570, 571, 572, 573, 574, 575, 576, 577, 578, 579, 580, 581, 582, 583, 584, 585, 586, 587, 588, 589, 590, 591, 592, 593, 594, 595, 596, 597, 598, 599, 600, 601, 602, 603, 604, 605, 606, 607, 608, 609, 610, 611, 612, 613, 614, 615, 616, 617, 618, 619, 620, 621, 622, 623, 624, 625, 626, 627, 628, 629, 630, 631, 632, 633, 634, 635, 636, 637, 638, 639, 640, 641, 642, 643, 644, 645, 646, 647, 648, 649, 650, 651, 652, 653, 654, 655, 656, 657, 658, 659, 660, 661, 662, 663, 664, 665, 666, 667, 668, 669, 670, 671, 672, 673, 674, 675, 676, 677, 678, 679, 680, 681, 682, 683, 684, 685, 686, 687, 688, 689, 690, 691, 692, 693, 694, 695, 696, 697, 698, 699, 700, 701, 702, 703, 704, 705, 706, 707, 708, 709, 710, 711, 712, 713, 714, 715, 716, 717, 718, 719, 720, 721, 722, 723, 724, 725, 726, 727, 728, 729, 730, 731, 732, 733, 734, 735, 736, 737, 738, 739, 740, 741, 742, 743, 744, 745, 746, 747, 748, 749, 750, 751, 752, 753, 754, 755, 756, 757, 758, 759, 760, 761, 762, 763, 764, 765, 766, 767, 768, 769, 770, 771, 772, 773, 774, 775, 776, 777, 778, 779, 780, 781, 782, 783, 784, 785, 786, 787, 788, 789, 790, 791, 792, 793, 794, 795, 796, 797, 798, 799, 800, 801, 802, 803, 804, 805, 806, 807, 808, 809, 810, 811, 812, 813, 814, 815, 816, 817, 818, 819, 820, 821, 822, 823, 824, 825, 826, 827, 828, 829, 830, 831, 832, 833, 834, 835, 836, 837, 838, 839, 840, 841, 842, 843, 844, 845, 846, 847, 848, 849, 850, 851, 852, 853, 854, 855, 856, 857, 858, 859, 860, 861, 862, 863, 864, 865, 866, 867, 868, 869, 870, 871, 872, 873, 874, 875, 876, 877, 878, 879, 880, 881, 882, 883, 884, 885, 886, 887, 888, 889, 890, 891, 892, 893, 894, 895, 896, 897, 898, 899, 900, 901, 902, 903, 904, 905, 906, 907, 908, 909, 910, 911, 912, 913, 914, 915, 916, 917, 918, 919, 920, 921, 922, 923, 924, 925, 926, 927, 928, 929, 930, 931, 932, 933, 934, 935, 936, 937, 938, 939, 940, 941, 942, 943, 944, 945, 946, 947, 948, 949, 950, 951, 952, 953, 954, 955, 956, 957, 958, 959, 960, 961, 962, 963, 964, 965, 966, 967, 968, 969, 970, 971, 972, 973, 974, 975, 976, 977, 978, 979, 980, 981, 982, 983, 984, 985, 986, 987, 988, 989, 990, 991, 992, 993, 994, 995, 996, 997, 998, 999]\n"
     ]
    }
   ],
   "source": [
    "a = [x for x in range(1000)]\n",
    "print(a)"
   ]
  },
  {
   "cell_type": "code",
   "execution_count": null,
   "id": "celtic-retro",
   "metadata": {},
   "outputs": [],
   "source": [
    "# def corr_vert_dist(des, des2):\n",
    "#     sum_l2_norm = []\n",
    "#     print(torch.sub(des[0], des2[0]).size())\n",
    "#     for i in range(len(des)):\n",
    "#         sum_l2_norm.append(torch.norm(torch.sub(des[i], des2[i])[:]))\n",
    "#     print(len(sum_l2_norm))\n",
    "#     return sum_l2_norm"
   ]
  },
  {
   "cell_type": "code",
   "execution_count": null,
   "id": "exempt-pressure",
   "metadata": {},
   "outputs": [],
   "source": [
    "def compute_l2(des, des2):\n",
    "    l2_dist = []\n",
    "    with torch.cuda.device(0):\n",
    "#         dist = torch.matmul(des, torch.transform(des2))\n",
    "        for i in range(0,des.shape[0]):\n",
    "            row = []\n",
    "            for j in range(0,des2.shape[0]):\n",
    "                l2_norm = torch.norm(des[i]-des2[j])\n",
    "#                 l2_norm = torch.sqrt(torch.sum(torch.square(des[i][0:]-des2[j][0:])))\n",
    "                row.append(l2_norm)\n",
    "#             np_row = np.array(row)\n",
    "    #         print(np_row.shape)\n",
    "            l2_dist.append(row)\n",
    "        print(len(l2_dist))\n",
    "#         np_dist = np.array(l2_dist)\n",
    "        dist = torch.as_tensor(l2_dist)\n",
    "        print(dist.shape)\n",
    "    gc.collect()\n",
    "    torch.cuda.empty_cache()\n",
    "    return dist"
   ]
  },
  {
   "cell_type": "code",
   "execution_count": 8,
   "id": "manufactured-sharing",
   "metadata": {},
   "outputs": [
    {
     "name": "stdout",
     "output_type": "stream",
     "text": [
      "torch.Size([2, 3])\n",
      "tensor([[ 2.8284,  5.9161, 10.7703,  3.3166],\n",
      "        [ 5.9161,  2.8284,  5.9161,  7.4833],\n",
      "        [10.7703,  5.9161,  2.8284, 12.4499],\n",
      "        [ 3.3166,  7.4833, 12.4499,  2.8284]])\n",
      "tensor([3.1623, 2.8284, 3.1623])\n"
     ]
    }
   ],
   "source": [
    "a = torch.tensor([[1., 2., 3.], [4., 5., 6.], [7., 8., 9.], [0., 1., 2.]])\n",
    "b = torch.tensor([[3., 2., 1.], [6., 5., 4.], [9., 8., 7.], [2., 1., 0.]])\n",
    "d = torch.cat([torch.unsqueeze(a[0], dim=0), torch.unsqueeze(b[0], dim=0)], dim=0)\n",
    "print(d.size())\n",
    "c = torch.cdist(a, b, p=2)\n",
    "print(c)\n",
    "print(l2_norm)"
   ]
  },
  {
   "cell_type": "code",
   "execution_count": null,
   "id": "english-paintball",
   "metadata": {},
   "outputs": [],
   "source": [
    "def get_mesh_dic():\n",
    "    mesh_dic = {}\n",
    "    for i in range(100):\n",
    "        fnm1 = ''.join([data_dir, test_scan_d, 'test_scan_d_', pairs[i][0], '.ply'])\n",
    "        fnm2 = ''.join([data_dir, test_scan_d, 'test_scan_d_', pairs[i][1], '.ply'])\n",
    "        pd1 = PlyData.read(fnm1)\n",
    "        pd2 = PlyData.read(fnm2)\n",
    "#         x_coord = pd['vertex'].data['x']\n",
    "#         y_coord = pd['vertex'].data['y']\n",
    "#         z_coord = pd['vertex'].data['z']"
   ]
  },
  {
   "cell_type": "code",
   "execution_count": null,
   "id": "demanding-collect",
   "metadata": {},
   "outputs": [],
   "source": [
    "# def pd_to_trimesh(pd):\n",
    "#     vert = np.empty((3, 15000))\n",
    "#     vert[0] = pd['vertex'].data['x']\n",
    "#     vert[1] = pd['vertex'].data['y']\n",
    "#     vert[2] = pd['vertex'].data['z']\n",
    "#     vert = np.transpose(vert)\n",
    "    \n",
    "#     face = pd['face'].data[0]\n",
    "#     lface = []\n",
    "#     # array format does not match - moved to list and reconverted to ndarray\n",
    "#     for i in range(len(face)):\n",
    "#         lface.append(np.asarray(list(face[i])))\n",
    "#     nface = np.asarray(lface)\n",
    "    \n",
    "#     mesh = trimesh.Trimesh(vertices=vert, faces=nface)\n",
    "    \n",
    "#     return mesh"
   ]
  },
  {
   "cell_type": "code",
   "execution_count": 1,
   "id": "agricultural-state",
   "metadata": {},
   "outputs": [
    {
     "ename": "NameError",
     "evalue": "name 'data_dir' is not defined",
     "output_type": "error",
     "traceback": [
      "\u001b[0;31m---------------------------------------------------------------------------\u001b[0m",
      "\u001b[0;31mNameError\u001b[0m                                 Traceback (most recent call last)",
      "\u001b[0;32m<ipython-input-1-d9402a1ed9c2>\u001b[0m in \u001b[0;36m<module>\u001b[0;34m\u001b[0m\n\u001b[0;32m----> 1\u001b[0;31m \u001b[0mfnm1\u001b[0m \u001b[0;34m=\u001b[0m \u001b[0;34m''\u001b[0m\u001b[0;34m.\u001b[0m\u001b[0mjoin\u001b[0m\u001b[0;34m(\u001b[0m\u001b[0;34m[\u001b[0m\u001b[0mdata_dir\u001b[0m\u001b[0;34m,\u001b[0m \u001b[0mtest_scan_d\u001b[0m\u001b[0;34m,\u001b[0m \u001b[0;34m'test_scan_d_'\u001b[0m\u001b[0;34m,\u001b[0m \u001b[0mpairs\u001b[0m\u001b[0;34m[\u001b[0m\u001b[0;36m0\u001b[0m\u001b[0;34m]\u001b[0m\u001b[0;34m[\u001b[0m\u001b[0;36m0\u001b[0m\u001b[0;34m]\u001b[0m\u001b[0;34m,\u001b[0m \u001b[0;34m'.ply'\u001b[0m\u001b[0;34m]\u001b[0m\u001b[0;34m)\u001b[0m\u001b[0;34m\u001b[0m\u001b[0;34m\u001b[0m\u001b[0m\n\u001b[0m\u001b[1;32m      2\u001b[0m \u001b[0mfnm1_1\u001b[0m \u001b[0;34m=\u001b[0m \u001b[0;34m''\u001b[0m\u001b[0;34m.\u001b[0m\u001b[0mjoin\u001b[0m\u001b[0;34m(\u001b[0m\u001b[0;34m[\u001b[0m\u001b[0mdata_dir\u001b[0m\u001b[0;34m,\u001b[0m \u001b[0;34m'training/scan/'\u001b[0m\u001b[0;34m,\u001b[0m \u001b[0;34m'tr_scan_'\u001b[0m\u001b[0;34m,\u001b[0m \u001b[0mpairs\u001b[0m\u001b[0;34m[\u001b[0m\u001b[0;36m0\u001b[0m\u001b[0;34m]\u001b[0m\u001b[0;34m[\u001b[0m\u001b[0;36m0\u001b[0m\u001b[0;34m]\u001b[0m\u001b[0;34m,\u001b[0m \u001b[0;34m'.ply'\u001b[0m\u001b[0;34m]\u001b[0m\u001b[0;34m)\u001b[0m\u001b[0;34m\u001b[0m\u001b[0;34m\u001b[0m\u001b[0m\n\u001b[1;32m      3\u001b[0m \u001b[0mfnm2\u001b[0m \u001b[0;34m=\u001b[0m \u001b[0;34m''\u001b[0m\u001b[0;34m.\u001b[0m\u001b[0mjoin\u001b[0m\u001b[0;34m(\u001b[0m\u001b[0;34m[\u001b[0m\u001b[0mdata_dir\u001b[0m\u001b[0;34m,\u001b[0m \u001b[0mtest_scan_d\u001b[0m\u001b[0;34m,\u001b[0m \u001b[0;34m'test_scan_d_'\u001b[0m\u001b[0;34m,\u001b[0m \u001b[0mpairs\u001b[0m\u001b[0;34m[\u001b[0m\u001b[0;36m0\u001b[0m\u001b[0;34m]\u001b[0m\u001b[0;34m[\u001b[0m\u001b[0;36m1\u001b[0m\u001b[0;34m]\u001b[0m\u001b[0;34m,\u001b[0m \u001b[0;34m'.ply'\u001b[0m\u001b[0;34m]\u001b[0m\u001b[0;34m)\u001b[0m\u001b[0;34m\u001b[0m\u001b[0;34m\u001b[0m\u001b[0m\n\u001b[1;32m      4\u001b[0m \u001b[0;34m\u001b[0m\u001b[0m\n\u001b[1;32m      5\u001b[0m \u001b[0masf\u001b[0m \u001b[0;34m=\u001b[0m \u001b[0mtrimesh\u001b[0m\u001b[0;34m.\u001b[0m\u001b[0mload\u001b[0m\u001b[0;34m(\u001b[0m\u001b[0mfnm1_1\u001b[0m\u001b[0;34m)\u001b[0m\u001b[0;34m\u001b[0m\u001b[0;34m\u001b[0m\u001b[0m\n",
      "\u001b[0;31mNameError\u001b[0m: name 'data_dir' is not defined"
     ]
    }
   ],
   "source": [
    "\n",
    "\n",
    "fnm1 = ''.join([data_dir, test_scan_d, 'test_scan_d_', pairs[0][0], '.ply'])\n",
    "fnm1_1 = ''.join([data_dir, 'training/scan/', 'tr_scan_', pairs[0][0], '.ply'])\n",
    "fnm2 = ''.join([data_dir, test_scan_d, 'test_scan_d_', pairs[0][1], '.ply'])\n",
    "\n",
    "asf = trimesh.load(fnm1_1)\n",
    "asd = trimesh.load(fnm1, file_type='ply', force=None)\n",
    "# print(asf)\n",
    "# print(asd)\n",
    "\n",
    "\n",
    "# 점 x, y, z가 여러개\n",
    "# print(pd1.elements)\n",
    "# print(pd2.elements)\n",
    "# x_coord_1 = pd1['vertex'].data['x']\n",
    "# y_coord_1 = pd1['vertex'].data['y']\n",
    "# z_coord_1 = pd1['vertex'].data['z']\n",
    "# print(len(x_coord_1))\n",
    "# vertex = np.empty((3, 15000))\n",
    "# vertex[0, :] = x_coord_1\n",
    "# vertex[1, :] = y_coord_1\n",
    "# vertex[2, :] = z_coord_1\n",
    "# print(len(vertex))\n",
    "# print(len(vertex[0]))\n",
    "# vertex = np.transpose(vertex)\n",
    "# print(vertex)\n",
    "\n",
    "# option1\n",
    "# faces_1 = []\n",
    "# for i in range(len(face_1)):\n",
    "#     faces_1.append(np.asarray(list(face_1[i])))\n",
    "# nfaces_1 = np.asarray(faces_1)\n",
    "\n",
    "# option2\n",
    "# faces_1 = []\n",
    "# for i in range(len(face_1)):\n",
    "#     temp = []\n",
    "#     temp.append(face_1[i][0])\n",
    "#     temp.append(face_1[i][1])\n",
    "#     temp.append(face_1[i][2])\n",
    "#     nt = np.asarray(temp)\n",
    "#     faces_1.append(nt)\n",
    "# nfaces_1 = np.asarray(faces_1)\n",
    "\n",
    "# mesh1 = trimesh.Trimesh(vertices=vertex, #[pd1['vertex'].data['x'], pd1['vertex'].data['y'], pd1['vertex'].data['z']],\n",
    "#                         faces=nfaces_1)\n",
    "# print(mesh1)\n",
    "\n",
    "# pd1 = PlyData.read(fnm1)\n",
    "# pd2 = PlyData.read(fnm2)\n",
    "\n",
    "\n",
    "m1 = trimesh.load(fnm1)\n",
    "m2 = trimesh.load(fnm2)\n",
    "\n",
    "\n",
    "\n",
    "# sam1 = trimesh.sample.sample_surface(m1, 5000)\n",
    "# sam2 = trimesh.sample.sample_surface(m2, 5000)\n",
    "\n",
    "# # print(sam1[1]) # faces\n",
    "# # print(m1)\n",
    "# # print(m1.vertices)\n",
    "# # print(sam1[0][0])\n",
    "# if sam1[0][0] in m1.vertices:\n",
    "#     print(\"hola\")\n",
    "# for elem in range(len(sam1[0])):\n",
    "#     same_vert = (m1.vertices==sam1[0][elem])\n",
    "#     print(same_vert)\n",
    "#     if same_vert.sum() > 0:\n",
    "#         sample_shot.append(shot1[same_vert])\n",
    "# print(len(sample_shot))\n",
    "\n",
    "\n",
    "\n",
    "\n",
    "# for vert in m1.vertices:\n",
    "#     if np.all([vert, sam1[0][idx]]) and idx < 5000:\n",
    "#         shot_index.append(idx)\n",
    "#         idx += 1\n",
    "#     if idx == 500:\n",
    "#         print('checkpt')\n",
    "\n",
    "# for vertex in sam1.vertices:\n",
    "#     np.where()\n",
    "\n",
    "\n",
    "# # get a distance map between two shots\n",
    "# d_map = compute_l2(shot1, shot2)\n",
    "# print(d_map)\n",
    "# torch.save(d_map, 'dist_map.pt')\n",
    "\n",
    "# calculate_dist_map()"
   ]
  },
  {
   "cell_type": "code",
   "execution_count": null,
   "id": "marine-shark",
   "metadata": {},
   "outputs": [],
   "source": [
    "# print(shot1)\n",
    "# rand_idx = np.random.choice(15000, 5000, replace=False)\n",
    "# ridx_torch = torch.from_numpy(rand_idx)\n",
    "# ridx_torch = ridx_torch.to(cuda_device)\n",
    "# ridx_torch = torch.sort(ridx_torch, dim=-1)[0]\n",
    "# # print(ridx_torch[0])\n",
    "# # red_shot = torch.index_select(shot1, dim=0, index=ridx_torch)\n",
    "# # red_shot2 = torch.index_select(shot2, dim=0, index=ridx_torch)\n",
    "# # print(red_shot.size())\n",
    "# # print(red_shot.size())"
   ]
  },
  {
   "cell_type": "code",
   "execution_count": 4,
   "id": "diagnostic-eugene",
   "metadata": {},
   "outputs": [
    {
     "name": "stdout",
     "output_type": "stream",
     "text": [
      "3\n"
     ]
    }
   ],
   "source": [
    "a = torch.randn(3, 2)\n",
    "print(a.size()[0])"
   ]
  },
  {
   "cell_type": "code",
   "execution_count": 20,
   "id": "parliamentary-moral",
   "metadata": {},
   "outputs": [
    {
     "name": "stdout",
     "output_type": "stream",
     "text": [
      "tensor([6, 5])\n",
      "False\n",
      "tensor([[False, False, False, False, False],\n",
      "        [False, False, False, False,  True]])\n",
      "0\n"
     ]
    }
   ],
   "source": [
    "a = torch.tensor([[1, 2, 3, 4, 5], [2, 3, 4, 5, 6]])\n",
    "b = torch.tensor([6, 5])\n",
    "# b = torch.unsqueeze(b, dim=1)\n",
    "print(b)\n",
    "print(b[0] in a[0])\n",
    "print(a>5)\n",
    "# c = torch.where(b[0] in a[:], 1, 0)\n",
    "c = torch.where(torch.eq(a[0], b[0]), 1, 0).sum().item()\n",
    "print(c)"
   ]
  },
  {
   "cell_type": "code",
   "execution_count": null,
   "id": "incorrect-attitude",
   "metadata": {},
   "outputs": [],
   "source": [
    "#     total_hit = 0 # total_hit = 1000\n",
    "#     size = dist.size()[0]\n",
    "#     for i in range(size):\n",
    "#         # sorts index from smallest to kth smallest\n",
    "#         if k < size:\n",
    "#             topk = torch.topk(dist, k, largest=False, sorted=True)\n",
    "\n",
    "#             knn = np.argpartition(matrix[i], k)[:k]\n",
    "\n",
    "#             print(knn)\n",
    "#             smallest = []\n",
    "#             for j in range(len(knn)):\n",
    "#                 smallest.append(matrix[i][knn[j]])\n",
    "#             smallest2 = sorted(matrix[i])[:k]\n",
    "#             smallest.sort()\n",
    "#             print(\"smallest {}\".format(smallest))\n",
    "#             print(\"smallest2 {}\".format(smallest2))\n",
    "        # same index presents -> hit\n",
    "#             print(\"i: {0}, knn: {1}\".format(i, knn))\n",
    "\n",
    "#             if i in knn:\n",
    "#                 total_hit += 1\n",
    "#         elif k == size:\n",
    "#             total_hit += 1\n",
    "#     return total_hit / size\n",
    "    \n",
    "    # information about argpartition\n",
    "    # https://numpy.org/doc/stable/reference/generated/numpy.argpartition.html\n",
    "    # https://stackoverflow.com/questions/34226400/find-the-index-of-the-k-smallest-values-of-a-numpy-array\n",
    "    # if the same index(row = i) presents, then it is hit -> later will be divided by 1000"
   ]
  },
  {
   "cell_type": "code",
   "execution_count": null,
   "id": "current-announcement",
   "metadata": {},
   "outputs": [],
   "source": [
    "    \n",
    "#     start = torch.cuda.Event(enable_timing=True)\n",
    "#     end = torch.cuda.Event(enable_timing=True)\n",
    "    \n",
    "#     with torch.cuda.device(0):\n",
    "#         start.record()\n",
    "\n",
    "\n",
    "\n",
    "#             fnm1 = ''.join([data_dir, test_scan_d, 'test_scan_d_', pairs[i][0], '.ply'])\n",
    "#             fnm2 = ''.join([data_dir, test_scan_d, 'test_scan_d_', pairs[i][1], '.ply'])\n",
    "# #             pd1 = PlyData.read(fnm1)\n",
    "# #             pd2 = PlyData.read(fnm2)\n",
    "# #             m1 = pd_to_trimesh(pd1)\n",
    "# #             m2 = pd_to_trimesh(pd2)\n",
    "#             m1 = trimesh.load(fnm1)\n",
    "#             m2 = trimesh.load(fnm2)\n",
    "#             sam1 = trimesh.sample.sample_surface(m1, 5000)\n",
    "#             sam2 = trimesh.sample.sample_surface(m2, 5000)\n",
    "\n",
    "\n",
    "\n",
    "#         print(avg_hitrate)\n",
    "#             d_name = ''.join(['dist_map', pairs[i][0], '_', pairs[i][1], '.pt'])\n",
    "#             torch.save(d_map, 'dist_map.pt')\n",
    "#         end.record()\n",
    "#         print(start.elapsed_time(end))"
   ]
  }
 ],
 "metadata": {
  "kernelspec": {
   "display_name": "Python 3",
   "language": "python",
   "name": "python3"
  },
  "language_info": {
   "codemirror_mode": {
    "name": "ipython",
    "version": 3
   },
   "file_extension": ".py",
   "mimetype": "text/x-python",
   "name": "python",
   "nbconvert_exporter": "python",
   "pygments_lexer": "ipython3",
   "version": "3.8.0"
  }
 },
 "nbformat": 4,
 "nbformat_minor": 5
}
