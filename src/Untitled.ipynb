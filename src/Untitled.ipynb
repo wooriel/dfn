{
 "cells": [
  {
   "cell_type": "code",
   "execution_count": 1,
   "id": "heard-cathedral",
   "metadata": {},
   "outputs": [],
   "source": [
    "import torch\n",
    "import numpy as np\n",
    "from scipy.sparse import csc_matrix\n"
   ]
  },
  {
   "cell_type": "code",
   "execution_count": null,
   "id": "handmade-nightlife",
   "metadata": {},
   "outputs": [],
   "source": [
    "#         output = self.relu(self.bn(self.fc(x).transpose(1, 2)).transpose(1, 2))\n",
    "#         output = self.bn2(self.fc2(output).transpose(1, 2)).transpose(1, 2)"
   ]
  },
  {
   "cell_type": "code",
   "execution_count": 5,
   "id": "tracked-funeral",
   "metadata": {},
   "outputs": [
    {
     "name": "stdout",
     "output_type": "stream",
     "text": [
      "torch.Size([16, 352, 6890])\n",
      "torch.Size([16, 352, 6890])\n"
     ]
    }
   ],
   "source": [
    "tor=torch.rand((16, 6890, 352))\n",
    "tor = tor.transpose(1, 2)\n",
    "print(tor.size())\n",
    "\n",
    "bn = torch.nn.BatchNorm1d(352, eps=1e-3, momentum=1e-3)\n",
    "tor = bn(tor)\n",
    "print(tor.size())"
   ]
  },
  {
   "cell_type": "code",
   "execution_count": 3,
   "id": "sharp-transfer",
   "metadata": {},
   "outputs": [
    {
     "name": "stdout",
     "output_type": "stream",
     "text": [
      "13\n"
     ]
    }
   ],
   "source": [
    "random = [i for i in range(16)]\n",
    "t_idx = np.random.choice(random)\n",
    "print(t_idx)"
   ]
  },
  {
   "cell_type": "code",
   "execution_count": 3,
   "id": "broadband-annex",
   "metadata": {},
   "outputs": [
    {
     "name": "stdout",
     "output_type": "stream",
     "text": [
      "1\n",
      "3\n",
      "2\n",
      "5\n"
     ]
    }
   ],
   "source": [
    "pairs = [['001', '003'], ['002', '005']]\n",
    "for i in range(2):\n",
    "    print(int(pairs[i][0]))\n",
    "    print(int(pairs[i][1]))"
   ]
  },
  {
   "cell_type": "code",
   "execution_count": 4,
   "id": "regional-closer",
   "metadata": {},
   "outputs": [
    {
     "name": "stdout",
     "output_type": "stream",
     "text": [
      "[0, 1, 2, 3, 4, 5, 6, 7, 8, 9]\n"
     ]
    }
   ],
   "source": [
    "print([i for i in range(10)])"
   ]
  },
  {
   "cell_type": "code",
   "execution_count": 3,
   "id": "latest-progressive",
   "metadata": {},
   "outputs": [
    {
     "name": "stdout",
     "output_type": "stream",
     "text": [
      "<class 'numpy.ndarray'>\n"
     ]
    }
   ],
   "source": [
    "a = csc_matrix((3, 4), dtype=np.int8).toarray()\n",
    "print(type(a))"
   ]
  },
  {
   "cell_type": "code",
   "execution_count": null,
   "id": "automated-brooklyn",
   "metadata": {},
   "outputs": [],
   "source": []
  }
 ],
 "metadata": {
  "kernelspec": {
   "display_name": "Python 3",
   "language": "python",
   "name": "python3"
  },
  "language_info": {
   "codemirror_mode": {
    "name": "ipython",
    "version": 3
   },
   "file_extension": ".py",
   "mimetype": "text/x-python",
   "name": "python",
   "nbconvert_exporter": "python",
   "pygments_lexer": "ipython3",
   "version": "3.8.0"
  }
 },
 "nbformat": 4,
 "nbformat_minor": 5
}
